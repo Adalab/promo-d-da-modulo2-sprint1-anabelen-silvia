{
 "cells": [
  {
   "attachments": {},
   "cell_type": "markdown",
   "metadata": {},
   "source": [
    "Pair Programming Repaso Conceptos Resumidos\n",
    "Al igual que en los ejercicios de pair programming de estadística, deberéis elegir un set de datos, puede ser de cualquier tipo. El objetivo de este pair programming es:\n",
    "\n",
    "    1. Hacer una exploración inicial del dataframe.\n",
    "        1.1. ¿Cuántas filas tiene?\n"
   ]
  },
  {
   "cell_type": "code",
   "execution_count": 2,
   "metadata": {},
   "outputs": [],
   "source": [
    "import numpy as np\n",
    "import pandas as pd\n",
    "import seaborn as sns\n",
    "from scipy.stats import skew\n",
    "import scipy.stats as st\n",
    "import matplotlib.pyplot as plt\n"
   ]
  },
  {
   "cell_type": "code",
   "execution_count": 3,
   "metadata": {},
   "outputs": [],
   "source": [
    "df = pd.read_csv(\"NY Realstate Pricing.csv\", index_col = 0)"
   ]
  },
  {
   "cell_type": "code",
   "execution_count": 4,
   "metadata": {},
   "outputs": [
    {
     "data": {
      "text/html": [
       "<div>\n",
       "<style scoped>\n",
       "    .dataframe tbody tr th:only-of-type {\n",
       "        vertical-align: middle;\n",
       "    }\n",
       "\n",
       "    .dataframe tbody tr th {\n",
       "        vertical-align: top;\n",
       "    }\n",
       "\n",
       "    .dataframe thead th {\n",
       "        text-align: right;\n",
       "    }\n",
       "</style>\n",
       "<table border=\"1\" class=\"dataframe\">\n",
       "  <thead>\n",
       "    <tr style=\"text-align: right;\">\n",
       "      <th></th>\n",
       "      <th>id</th>\n",
       "      <th>neighbourhood</th>\n",
       "      <th>latitude</th>\n",
       "      <th>longitude</th>\n",
       "      <th>room_type</th>\n",
       "      <th>price</th>\n",
       "      <th>days_occupied_in_2019</th>\n",
       "      <th>minimum_nights</th>\n",
       "      <th>number_of_reviews</th>\n",
       "      <th>reviews_per_month</th>\n",
       "      <th>availability_2020</th>\n",
       "    </tr>\n",
       "    <tr>\n",
       "      <th>F1</th>\n",
       "      <th></th>\n",
       "      <th></th>\n",
       "      <th></th>\n",
       "      <th></th>\n",
       "      <th></th>\n",
       "      <th></th>\n",
       "      <th></th>\n",
       "      <th></th>\n",
       "      <th></th>\n",
       "      <th></th>\n",
       "      <th></th>\n",
       "    </tr>\n",
       "  </thead>\n",
       "  <tbody>\n",
       "    <tr>\n",
       "      <th>0</th>\n",
       "      <td>2595</td>\n",
       "      <td>Midtown</td>\n",
       "      <td>40.75362</td>\n",
       "      <td>-73.98377</td>\n",
       "      <td>Entire home/apt</td>\n",
       "      <td>225</td>\n",
       "      <td>15</td>\n",
       "      <td>10</td>\n",
       "      <td>48</td>\n",
       "      <td>0.39</td>\n",
       "      <td>1</td>\n",
       "    </tr>\n",
       "    <tr>\n",
       "      <th>1</th>\n",
       "      <td>3831</td>\n",
       "      <td>Brooklyn</td>\n",
       "      <td>40.68514</td>\n",
       "      <td>-73.95976</td>\n",
       "      <td>Entire home/apt</td>\n",
       "      <td>89</td>\n",
       "      <td>188</td>\n",
       "      <td>1</td>\n",
       "      <td>295</td>\n",
       "      <td>4.67</td>\n",
       "      <td>1</td>\n",
       "    </tr>\n",
       "    <tr>\n",
       "      <th>2</th>\n",
       "      <td>5099</td>\n",
       "      <td>Manhattan</td>\n",
       "      <td>40.74767</td>\n",
       "      <td>-73.97500</td>\n",
       "      <td>Entire home/apt</td>\n",
       "      <td>200</td>\n",
       "      <td>362</td>\n",
       "      <td>3</td>\n",
       "      <td>78</td>\n",
       "      <td>0.60</td>\n",
       "      <td>19</td>\n",
       "    </tr>\n",
       "    <tr>\n",
       "      <th>3</th>\n",
       "      <td>5121</td>\n",
       "      <td>Bedford-Stuyvesant</td>\n",
       "      <td>40.68688</td>\n",
       "      <td>-73.95596</td>\n",
       "      <td>Private room</td>\n",
       "      <td>60</td>\n",
       "      <td>0</td>\n",
       "      <td>29</td>\n",
       "      <td>49</td>\n",
       "      <td>0.38</td>\n",
       "      <td>365</td>\n",
       "    </tr>\n",
       "    <tr>\n",
       "      <th>4</th>\n",
       "      <td>5178</td>\n",
       "      <td>Manhattan</td>\n",
       "      <td>40.76489</td>\n",
       "      <td>-73.98493</td>\n",
       "      <td>Private room</td>\n",
       "      <td>79</td>\n",
       "      <td>141</td>\n",
       "      <td>2</td>\n",
       "      <td>454</td>\n",
       "      <td>3.52</td>\n",
       "      <td>242</td>\n",
       "    </tr>\n",
       "  </tbody>\n",
       "</table>\n",
       "</div>"
      ],
      "text/plain": [
       "      id       neighbourhood  latitude  longitude        room_type  price  \\\n",
       "F1                                                                          \n",
       "0   2595             Midtown  40.75362  -73.98377  Entire home/apt    225   \n",
       "1   3831            Brooklyn  40.68514  -73.95976  Entire home/apt     89   \n",
       "2   5099           Manhattan  40.74767  -73.97500  Entire home/apt    200   \n",
       "3   5121  Bedford-Stuyvesant  40.68688  -73.95596     Private room     60   \n",
       "4   5178           Manhattan  40.76489  -73.98493     Private room     79   \n",
       "\n",
       "    days_occupied_in_2019  minimum_nights  number_of_reviews  \\\n",
       "F1                                                             \n",
       "0                      15              10                 48   \n",
       "1                     188               1                295   \n",
       "2                     362               3                 78   \n",
       "3                       0              29                 49   \n",
       "4                     141               2                454   \n",
       "\n",
       "    reviews_per_month  availability_2020  \n",
       "F1                                        \n",
       "0                0.39                  1  \n",
       "1                4.67                  1  \n",
       "2                0.60                 19  \n",
       "3                0.38                365  \n",
       "4                3.52                242  "
      ]
     },
     "execution_count": 4,
     "metadata": {},
     "output_type": "execute_result"
    }
   ],
   "source": [
    "df.head()"
   ]
  },
  {
   "cell_type": "code",
   "execution_count": 5,
   "metadata": {},
   "outputs": [
    {
     "data": {
      "text/plain": [
       "(17614, 11)"
      ]
     },
     "execution_count": 5,
     "metadata": {},
     "output_type": "execute_result"
    }
   ],
   "source": [
    "df.shape #miramos las filas y columnas"
   ]
  },
  {
   "attachments": {},
   "cell_type": "markdown",
   "metadata": {},
   "source": [
    "        1.2. ¿Cuántas nulos tiene?\n"
   ]
  },
  {
   "cell_type": "code",
   "execution_count": 6,
   "metadata": {},
   "outputs": [
    {
     "data": {
      "text/plain": [
       "id                       0\n",
       "neighbourhood            0\n",
       "latitude                 0\n",
       "longitude                0\n",
       "room_type                0\n",
       "price                    0\n",
       "days_occupied_in_2019    0\n",
       "minimum_nights           0\n",
       "number_of_reviews        0\n",
       "reviews_per_month        0\n",
       "availability_2020        0\n",
       "dtype: int64"
      ]
     },
     "execution_count": 6,
     "metadata": {},
     "output_type": "execute_result"
    }
   ],
   "source": [
    "df.isnull().sum() # calculamos los nulos"
   ]
  },
  {
   "attachments": {},
   "cell_type": "markdown",
   "metadata": {},
   "source": [
    "        1.3. ¿Y duplicados?\n"
   ]
  },
  {
   "cell_type": "code",
   "execution_count": 7,
   "metadata": {},
   "outputs": [
    {
     "data": {
      "text/plain": [
       "0"
      ]
     },
     "execution_count": 7,
     "metadata": {},
     "output_type": "execute_result"
    }
   ],
   "source": [
    "df.duplicated().sum() # calculamos los duplicados"
   ]
  },
  {
   "attachments": {},
   "cell_type": "markdown",
   "metadata": {},
   "source": [
    "        1.4. ¿Qué tipo de datos tenemos en el dataframe?\n"
   ]
  },
  {
   "cell_type": "code",
   "execution_count": 8,
   "metadata": {},
   "outputs": [
    {
     "name": "stdout",
     "output_type": "stream",
     "text": [
      "<class 'pandas.core.frame.DataFrame'>\n",
      "Int64Index: 17614 entries, 0 to 25441\n",
      "Data columns (total 11 columns):\n",
      " #   Column                 Non-Null Count  Dtype  \n",
      "---  ------                 --------------  -----  \n",
      " 0   id                     17614 non-null  int64  \n",
      " 1   neighbourhood          17614 non-null  object \n",
      " 2   latitude               17614 non-null  float64\n",
      " 3   longitude              17614 non-null  float64\n",
      " 4   room_type              17614 non-null  object \n",
      " 5   price                  17614 non-null  int64  \n",
      " 6   days_occupied_in_2019  17614 non-null  int64  \n",
      " 7   minimum_nights         17614 non-null  int64  \n",
      " 8   number_of_reviews      17614 non-null  int64  \n",
      " 9   reviews_per_month      17614 non-null  float64\n",
      " 10  availability_2020      17614 non-null  int64  \n",
      "dtypes: float64(3), int64(6), object(2)\n",
      "memory usage: 1.6+ MB\n"
     ]
    }
   ],
   "source": [
    "df.info()"
   ]
  },
  {
   "cell_type": "code",
   "execution_count": 9,
   "metadata": {},
   "outputs": [
    {
     "data": {
      "text/plain": [
       "Brooklyn              3875\n",
       "Manhattan             3229\n",
       "Queens                1099\n",
       "Bedford-Stuyvesant     799\n",
       "Harlem                 632\n",
       "                      ... \n",
       "Sea Gate                 1\n",
       "Marble Hill              1\n",
       "Midland Beach            1\n",
       "Mill Basin               1\n",
       "Van Nest                 1\n",
       "Name: neighbourhood, Length: 186, dtype: int64"
      ]
     },
     "execution_count": 9,
     "metadata": {},
     "output_type": "execute_result"
    }
   ],
   "source": [
    "df[\"neighbourhood\"].value_counts()"
   ]
  },
  {
   "cell_type": "code",
   "execution_count": 10,
   "metadata": {},
   "outputs": [
    {
     "data": {
      "text/plain": [
       "Entire home/apt    9405\n",
       "Private room       7752\n",
       "Shared room         357\n",
       "Hotel room          100\n",
       "Name: room_type, dtype: int64"
      ]
     },
     "execution_count": 10,
     "metadata": {},
     "output_type": "execute_result"
    }
   ],
   "source": [
    "df[\"room_type\"].value_counts()"
   ]
  },
  {
   "cell_type": "code",
   "execution_count": 11,
   "metadata": {},
   "outputs": [
    {
     "data": {
      "text/plain": [
       "1      760\n",
       "2      652\n",
       "3      550\n",
       "4      519\n",
       "5      440\n",
       "      ... \n",
       "416      1\n",
       "364      1\n",
       "395      1\n",
       "302      1\n",
       "242      1\n",
       "Name: number_of_reviews, Length: 408, dtype: int64"
      ]
     },
     "execution_count": 11,
     "metadata": {},
     "output_type": "execute_result"
    }
   ],
   "source": [
    "df[\"number_of_reviews\"].value_counts()"
   ]
  },
  {
   "cell_type": "code",
   "execution_count": 12,
   "metadata": {},
   "outputs": [
    {
     "data": {
      "text/html": [
       "<div>\n",
       "<style scoped>\n",
       "    .dataframe tbody tr th:only-of-type {\n",
       "        vertical-align: middle;\n",
       "    }\n",
       "\n",
       "    .dataframe tbody tr th {\n",
       "        vertical-align: top;\n",
       "    }\n",
       "\n",
       "    .dataframe thead th {\n",
       "        text-align: right;\n",
       "    }\n",
       "</style>\n",
       "<table border=\"1\" class=\"dataframe\">\n",
       "  <thead>\n",
       "    <tr style=\"text-align: right;\">\n",
       "      <th></th>\n",
       "      <th>id</th>\n",
       "      <th>neighbourhood</th>\n",
       "      <th>latitude</th>\n",
       "      <th>longitude</th>\n",
       "      <th>room_type</th>\n",
       "      <th>price</th>\n",
       "      <th>days_occupied_in_2019</th>\n",
       "      <th>minimum_nights</th>\n",
       "      <th>number_of_reviews</th>\n",
       "      <th>reviews_per_month</th>\n",
       "      <th>availability_2020</th>\n",
       "    </tr>\n",
       "    <tr>\n",
       "      <th>F1</th>\n",
       "      <th></th>\n",
       "      <th></th>\n",
       "      <th></th>\n",
       "      <th></th>\n",
       "      <th></th>\n",
       "      <th></th>\n",
       "      <th></th>\n",
       "      <th></th>\n",
       "      <th></th>\n",
       "      <th></th>\n",
       "      <th></th>\n",
       "    </tr>\n",
       "  </thead>\n",
       "  <tbody>\n",
       "    <tr>\n",
       "      <th>30338</th>\n",
       "      <td>25967894</td>\n",
       "      <td>Manhattan</td>\n",
       "      <td>40.84963</td>\n",
       "      <td>-73.93720</td>\n",
       "      <td>Entire home/apt</td>\n",
       "      <td>100</td>\n",
       "      <td>314</td>\n",
       "      <td>2</td>\n",
       "      <td>23</td>\n",
       "      <td>1.45</td>\n",
       "      <td>46</td>\n",
       "    </tr>\n",
       "    <tr>\n",
       "      <th>181</th>\n",
       "      <td>51850</td>\n",
       "      <td>Jamaica</td>\n",
       "      <td>40.67252</td>\n",
       "      <td>-73.76597</td>\n",
       "      <td>Private room</td>\n",
       "      <td>55</td>\n",
       "      <td>29</td>\n",
       "      <td>2</td>\n",
       "      <td>53</td>\n",
       "      <td>0.48</td>\n",
       "      <td>307</td>\n",
       "    </tr>\n",
       "    <tr>\n",
       "      <th>21788</th>\n",
       "      <td>18993091</td>\n",
       "      <td>Brooklyn</td>\n",
       "      <td>40.61767</td>\n",
       "      <td>-73.99176</td>\n",
       "      <td>Private room</td>\n",
       "      <td>80</td>\n",
       "      <td>274</td>\n",
       "      <td>5</td>\n",
       "      <td>31</td>\n",
       "      <td>1.03</td>\n",
       "      <td>54</td>\n",
       "    </tr>\n",
       "    <tr>\n",
       "      <th>2689</th>\n",
       "      <td>1682963</td>\n",
       "      <td>Staten Island</td>\n",
       "      <td>40.61022</td>\n",
       "      <td>-74.06507</td>\n",
       "      <td>Private room</td>\n",
       "      <td>125</td>\n",
       "      <td>21</td>\n",
       "      <td>4</td>\n",
       "      <td>6</td>\n",
       "      <td>0.09</td>\n",
       "      <td>179</td>\n",
       "    </tr>\n",
       "    <tr>\n",
       "      <th>11693</th>\n",
       "      <td>9597111</td>\n",
       "      <td>Midtown</td>\n",
       "      <td>40.75429</td>\n",
       "      <td>-73.99198</td>\n",
       "      <td>Private room</td>\n",
       "      <td>99</td>\n",
       "      <td>64</td>\n",
       "      <td>2</td>\n",
       "      <td>6</td>\n",
       "      <td>0.12</td>\n",
       "      <td>330</td>\n",
       "    </tr>\n",
       "  </tbody>\n",
       "</table>\n",
       "</div>"
      ],
      "text/plain": [
       "             id  neighbourhood  latitude  longitude        room_type  price  \\\n",
       "F1                                                                            \n",
       "30338  25967894      Manhattan  40.84963  -73.93720  Entire home/apt    100   \n",
       "181       51850        Jamaica  40.67252  -73.76597     Private room     55   \n",
       "21788  18993091       Brooklyn  40.61767  -73.99176     Private room     80   \n",
       "2689    1682963  Staten Island  40.61022  -74.06507     Private room    125   \n",
       "11693   9597111        Midtown  40.75429  -73.99198     Private room     99   \n",
       "\n",
       "       days_occupied_in_2019  minimum_nights  number_of_reviews  \\\n",
       "F1                                                                \n",
       "30338                    314               2                 23   \n",
       "181                       29               2                 53   \n",
       "21788                    274               5                 31   \n",
       "2689                      21               4                  6   \n",
       "11693                     64               2                  6   \n",
       "\n",
       "       reviews_per_month  availability_2020  \n",
       "F1                                           \n",
       "30338               1.45                 46  \n",
       "181                 0.48                307  \n",
       "21788               1.03                 54  \n",
       "2689                0.09                179  \n",
       "11693               0.12                330  "
      ]
     },
     "execution_count": 12,
     "metadata": {},
     "output_type": "execute_result"
    }
   ],
   "source": [
    "df.sample(5)"
   ]
  },
  {
   "cell_type": "code",
   "execution_count": 13,
   "metadata": {},
   "outputs": [
    {
     "data": {
      "text/html": [
       "<div>\n",
       "<style scoped>\n",
       "    .dataframe tbody tr th:only-of-type {\n",
       "        vertical-align: middle;\n",
       "    }\n",
       "\n",
       "    .dataframe tbody tr th {\n",
       "        vertical-align: top;\n",
       "    }\n",
       "\n",
       "    .dataframe thead th {\n",
       "        text-align: right;\n",
       "    }\n",
       "</style>\n",
       "<table border=\"1\" class=\"dataframe\">\n",
       "  <thead>\n",
       "    <tr style=\"text-align: right;\">\n",
       "      <th></th>\n",
       "      <th>count</th>\n",
       "      <th>mean</th>\n",
       "      <th>std</th>\n",
       "      <th>min</th>\n",
       "      <th>25%</th>\n",
       "      <th>50%</th>\n",
       "      <th>75%</th>\n",
       "      <th>max</th>\n",
       "    </tr>\n",
       "  </thead>\n",
       "  <tbody>\n",
       "    <tr>\n",
       "      <th>id</th>\n",
       "      <td>17614.0</td>\n",
       "      <td>1.572032e+07</td>\n",
       "      <td>9.644155e+06</td>\n",
       "      <td>2595.00000</td>\n",
       "      <td>6.718288e+06</td>\n",
       "      <td>1.654699e+07</td>\n",
       "      <td>2.407707e+07</td>\n",
       "      <td>3.056528e+07</td>\n",
       "    </tr>\n",
       "    <tr>\n",
       "      <th>latitude</th>\n",
       "      <td>17614.0</td>\n",
       "      <td>4.072675e+01</td>\n",
       "      <td>5.698110e-02</td>\n",
       "      <td>40.50868</td>\n",
       "      <td>4.068604e+01</td>\n",
       "      <td>4.072054e+01</td>\n",
       "      <td>4.076313e+01</td>\n",
       "      <td>4.090804e+01</td>\n",
       "    </tr>\n",
       "    <tr>\n",
       "      <th>longitude</th>\n",
       "      <td>17614.0</td>\n",
       "      <td>-7.394773e+01</td>\n",
       "      <td>5.021280e-02</td>\n",
       "      <td>-74.23986</td>\n",
       "      <td>-7.398094e+01</td>\n",
       "      <td>-7.395305e+01</td>\n",
       "      <td>-7.393068e+01</td>\n",
       "      <td>-7.372179e+01</td>\n",
       "    </tr>\n",
       "    <tr>\n",
       "      <th>price</th>\n",
       "      <td>17614.0</td>\n",
       "      <td>1.454555e+02</td>\n",
       "      <td>1.949907e+02</td>\n",
       "      <td>0.00000</td>\n",
       "      <td>7.000000e+01</td>\n",
       "      <td>1.090000e+02</td>\n",
       "      <td>1.700000e+02</td>\n",
       "      <td>9.999000e+03</td>\n",
       "    </tr>\n",
       "    <tr>\n",
       "      <th>days_occupied_in_2019</th>\n",
       "      <td>17614.0</td>\n",
       "      <td>1.795177e+02</td>\n",
       "      <td>1.302020e+02</td>\n",
       "      <td>0.00000</td>\n",
       "      <td>3.500000e+01</td>\n",
       "      <td>1.980000e+02</td>\n",
       "      <td>3.010000e+02</td>\n",
       "      <td>3.640000e+02</td>\n",
       "    </tr>\n",
       "    <tr>\n",
       "      <th>minimum_nights</th>\n",
       "      <td>17614.0</td>\n",
       "      <td>7.392926e+00</td>\n",
       "      <td>1.923387e+01</td>\n",
       "      <td>1.00000</td>\n",
       "      <td>2.000000e+00</td>\n",
       "      <td>3.000000e+00</td>\n",
       "      <td>5.000000e+00</td>\n",
       "      <td>1.125000e+03</td>\n",
       "    </tr>\n",
       "    <tr>\n",
       "      <th>number_of_reviews</th>\n",
       "      <td>17614.0</td>\n",
       "      <td>5.612899e+01</td>\n",
       "      <td>6.597237e+01</td>\n",
       "      <td>1.00000</td>\n",
       "      <td>9.000000e+00</td>\n",
       "      <td>3.300000e+01</td>\n",
       "      <td>7.900000e+01</td>\n",
       "      <td>6.750000e+02</td>\n",
       "    </tr>\n",
       "    <tr>\n",
       "      <th>reviews_per_month</th>\n",
       "      <td>17614.0</td>\n",
       "      <td>1.607060e+00</td>\n",
       "      <td>1.635528e+00</td>\n",
       "      <td>0.01000</td>\n",
       "      <td>3.400000e-01</td>\n",
       "      <td>1.060000e+00</td>\n",
       "      <td>2.460000e+00</td>\n",
       "      <td>1.925000e+01</td>\n",
       "    </tr>\n",
       "    <tr>\n",
       "      <th>availability_2020</th>\n",
       "      <td>17614.0</td>\n",
       "      <td>1.541548e+02</td>\n",
       "      <td>1.380797e+02</td>\n",
       "      <td>0.00000</td>\n",
       "      <td>8.000000e+00</td>\n",
       "      <td>1.250000e+02</td>\n",
       "      <td>3.090000e+02</td>\n",
       "      <td>3.650000e+02</td>\n",
       "    </tr>\n",
       "  </tbody>\n",
       "</table>\n",
       "</div>"
      ],
      "text/plain": [
       "                         count          mean           std         min  \\\n",
       "id                     17614.0  1.572032e+07  9.644155e+06  2595.00000   \n",
       "latitude               17614.0  4.072675e+01  5.698110e-02    40.50868   \n",
       "longitude              17614.0 -7.394773e+01  5.021280e-02   -74.23986   \n",
       "price                  17614.0  1.454555e+02  1.949907e+02     0.00000   \n",
       "days_occupied_in_2019  17614.0  1.795177e+02  1.302020e+02     0.00000   \n",
       "minimum_nights         17614.0  7.392926e+00  1.923387e+01     1.00000   \n",
       "number_of_reviews      17614.0  5.612899e+01  6.597237e+01     1.00000   \n",
       "reviews_per_month      17614.0  1.607060e+00  1.635528e+00     0.01000   \n",
       "availability_2020      17614.0  1.541548e+02  1.380797e+02     0.00000   \n",
       "\n",
       "                                25%           50%           75%           max  \n",
       "id                     6.718288e+06  1.654699e+07  2.407707e+07  3.056528e+07  \n",
       "latitude               4.068604e+01  4.072054e+01  4.076313e+01  4.090804e+01  \n",
       "longitude             -7.398094e+01 -7.395305e+01 -7.393068e+01 -7.372179e+01  \n",
       "price                  7.000000e+01  1.090000e+02  1.700000e+02  9.999000e+03  \n",
       "days_occupied_in_2019  3.500000e+01  1.980000e+02  3.010000e+02  3.640000e+02  \n",
       "minimum_nights         2.000000e+00  3.000000e+00  5.000000e+00  1.125000e+03  \n",
       "number_of_reviews      9.000000e+00  3.300000e+01  7.900000e+01  6.750000e+02  \n",
       "reviews_per_month      3.400000e-01  1.060000e+00  2.460000e+00  1.925000e+01  \n",
       "availability_2020      8.000000e+00  1.250000e+02  3.090000e+02  3.650000e+02  "
      ]
     },
     "execution_count": 13,
     "metadata": {},
     "output_type": "execute_result"
    }
   ],
   "source": [
    "df.describe().T"
   ]
  },
  {
   "cell_type": "code",
   "execution_count": 14,
   "metadata": {},
   "outputs": [],
   "source": [
    "df[\"estancia_media\"] = pd.cut(x = df[\"days_occupied_in_2019\"], bins = [-1, 1, 7, 30, 180, 366], labels = [\"Nulo\", \"Bajo\", \"Medio\", \"Alto\", \"Muy_alto\"])"
   ]
  },
  {
   "cell_type": "code",
   "execution_count": 15,
   "metadata": {},
   "outputs": [],
   "source": [
    "df.drop([\"latitude\", \"longitude\", \"days_occupied_in_2019\", \"id\" ], axis = 1, inplace= True)"
   ]
  },
  {
   "cell_type": "code",
   "execution_count": 16,
   "metadata": {},
   "outputs": [
    {
     "data": {
      "text/html": [
       "<div>\n",
       "<style scoped>\n",
       "    .dataframe tbody tr th:only-of-type {\n",
       "        vertical-align: middle;\n",
       "    }\n",
       "\n",
       "    .dataframe tbody tr th {\n",
       "        vertical-align: top;\n",
       "    }\n",
       "\n",
       "    .dataframe thead th {\n",
       "        text-align: right;\n",
       "    }\n",
       "</style>\n",
       "<table border=\"1\" class=\"dataframe\">\n",
       "  <thead>\n",
       "    <tr style=\"text-align: right;\">\n",
       "      <th></th>\n",
       "      <th>neighbourhood</th>\n",
       "      <th>room_type</th>\n",
       "      <th>price</th>\n",
       "      <th>minimum_nights</th>\n",
       "      <th>number_of_reviews</th>\n",
       "      <th>reviews_per_month</th>\n",
       "      <th>availability_2020</th>\n",
       "      <th>estancia_media</th>\n",
       "    </tr>\n",
       "    <tr>\n",
       "      <th>F1</th>\n",
       "      <th></th>\n",
       "      <th></th>\n",
       "      <th></th>\n",
       "      <th></th>\n",
       "      <th></th>\n",
       "      <th></th>\n",
       "      <th></th>\n",
       "      <th></th>\n",
       "    </tr>\n",
       "  </thead>\n",
       "  <tbody>\n",
       "    <tr>\n",
       "      <th>24616</th>\n",
       "      <td>Flushing</td>\n",
       "      <td>Entire home/apt</td>\n",
       "      <td>110</td>\n",
       "      <td>30</td>\n",
       "      <td>6</td>\n",
       "      <td>0.26</td>\n",
       "      <td>265</td>\n",
       "      <td>Alto</td>\n",
       "    </tr>\n",
       "    <tr>\n",
       "      <th>30291</th>\n",
       "      <td>Lefferts Garden</td>\n",
       "      <td>Entire home/apt</td>\n",
       "      <td>110</td>\n",
       "      <td>2</td>\n",
       "      <td>68</td>\n",
       "      <td>3.93</td>\n",
       "      <td>33</td>\n",
       "      <td>Muy_alto</td>\n",
       "    </tr>\n",
       "    <tr>\n",
       "      <th>25134</th>\n",
       "      <td>Manhattan</td>\n",
       "      <td>Entire home/apt</td>\n",
       "      <td>150</td>\n",
       "      <td>2</td>\n",
       "      <td>88</td>\n",
       "      <td>3.44</td>\n",
       "      <td>94</td>\n",
       "      <td>Muy_alto</td>\n",
       "    </tr>\n",
       "    <tr>\n",
       "      <th>1533</th>\n",
       "      <td>Brooklyn</td>\n",
       "      <td>Private room</td>\n",
       "      <td>125</td>\n",
       "      <td>3</td>\n",
       "      <td>288</td>\n",
       "      <td>3.36</td>\n",
       "      <td>0</td>\n",
       "      <td>Alto</td>\n",
       "    </tr>\n",
       "    <tr>\n",
       "      <th>34392</th>\n",
       "      <td>Harlem</td>\n",
       "      <td>Private room</td>\n",
       "      <td>90</td>\n",
       "      <td>2</td>\n",
       "      <td>54</td>\n",
       "      <td>4.15</td>\n",
       "      <td>91</td>\n",
       "      <td>Alto</td>\n",
       "    </tr>\n",
       "  </tbody>\n",
       "</table>\n",
       "</div>"
      ],
      "text/plain": [
       "         neighbourhood        room_type  price  minimum_nights  \\\n",
       "F1                                                               \n",
       "24616         Flushing  Entire home/apt    110              30   \n",
       "30291  Lefferts Garden  Entire home/apt    110               2   \n",
       "25134        Manhattan  Entire home/apt    150               2   \n",
       "1533          Brooklyn     Private room    125               3   \n",
       "34392           Harlem     Private room     90               2   \n",
       "\n",
       "       number_of_reviews  reviews_per_month  availability_2020 estancia_media  \n",
       "F1                                                                             \n",
       "24616                  6               0.26                265           Alto  \n",
       "30291                 68               3.93                 33       Muy_alto  \n",
       "25134                 88               3.44                 94       Muy_alto  \n",
       "1533                 288               3.36                  0           Alto  \n",
       "34392                 54               4.15                 91           Alto  "
      ]
     },
     "execution_count": 16,
     "metadata": {},
     "output_type": "execute_result"
    }
   ],
   "source": [
    "df.sample(5)"
   ]
  },
  {
   "attachments": {},
   "cell_type": "markdown",
   "metadata": {},
   "source": [
    "        1.5. etc.\n",
    "    2. Plantead una serie de preguntas como las que fuimos contestando en la clase invertida.\n"
   ]
  },
  {
   "cell_type": "code",
   "execution_count": 17,
   "metadata": {},
   "outputs": [
    {
     "name": "stdout",
     "output_type": "stream",
     "text": [
      "La moda (el precio que más se repite en nuestro set de datos) es 150\n"
     ]
    }
   ],
   "source": [
    "\n",
    "moda = df[\"price\"].mode()\n",
    "print(f\"La moda (el precio que más se repite en nuestro set de datos) es {moda[0]}\")"
   ]
  },
  {
   "cell_type": "code",
   "execution_count": 18,
   "metadata": {},
   "outputs": [
    {
     "name": "stdout",
     "output_type": "stream",
     "text": [
      "La mediana es 109.0\n"
     ]
    }
   ],
   "source": [
    "mediana = df[\"price\"].median()\n",
    "print(f\"La mediana es {mediana}\")"
   ]
  },
  {
   "cell_type": "code",
   "execution_count": 19,
   "metadata": {},
   "outputs": [
    {
     "name": "stdout",
     "output_type": "stream",
     "text": [
      "La media es 145.4554899511752\n"
     ]
    }
   ],
   "source": [
    "media = df[\"price\"].mean()\n",
    "print(f\"La media es {media}\")"
   ]
  },
  {
   "cell_type": "code",
   "execution_count": 20,
   "metadata": {},
   "outputs": [
    {
     "name": "stdout",
     "output_type": "stream",
     "text": [
      "El precio minimo es 0\n"
     ]
    }
   ],
   "source": [
    "minimo = df[\"price\"].min()\n",
    "print(f\"El precio minimo es {minimo}\")"
   ]
  },
  {
   "cell_type": "code",
   "execution_count": 21,
   "metadata": {},
   "outputs": [],
   "source": [
    "df_estancia = df.groupby(\"estancia_media\")[\"price\"].mean().reset_index()"
   ]
  },
  {
   "cell_type": "code",
   "execution_count": 22,
   "metadata": {},
   "outputs": [
    {
     "data": {
      "text/html": [
       "<div>\n",
       "<style scoped>\n",
       "    .dataframe tbody tr th:only-of-type {\n",
       "        vertical-align: middle;\n",
       "    }\n",
       "\n",
       "    .dataframe tbody tr th {\n",
       "        vertical-align: top;\n",
       "    }\n",
       "\n",
       "    .dataframe thead th {\n",
       "        text-align: right;\n",
       "    }\n",
       "</style>\n",
       "<table border=\"1\" class=\"dataframe\">\n",
       "  <thead>\n",
       "    <tr style=\"text-align: right;\">\n",
       "      <th></th>\n",
       "      <th>estancia_media</th>\n",
       "      <th>price</th>\n",
       "    </tr>\n",
       "  </thead>\n",
       "  <tbody>\n",
       "    <tr>\n",
       "      <th>0</th>\n",
       "      <td>Nulo</td>\n",
       "      <td>213.253814</td>\n",
       "    </tr>\n",
       "    <tr>\n",
       "      <th>1</th>\n",
       "      <td>Bajo</td>\n",
       "      <td>162.546218</td>\n",
       "    </tr>\n",
       "    <tr>\n",
       "      <th>2</th>\n",
       "      <td>Medio</td>\n",
       "      <td>146.436806</td>\n",
       "    </tr>\n",
       "    <tr>\n",
       "      <th>3</th>\n",
       "      <td>Alto</td>\n",
       "      <td>145.409217</td>\n",
       "    </tr>\n",
       "    <tr>\n",
       "      <th>4</th>\n",
       "      <td>Muy_alto</td>\n",
       "      <td>138.993497</td>\n",
       "    </tr>\n",
       "  </tbody>\n",
       "</table>\n",
       "</div>"
      ],
      "text/plain": [
       "  estancia_media       price\n",
       "0           Nulo  213.253814\n",
       "1           Bajo  162.546218\n",
       "2          Medio  146.436806\n",
       "3           Alto  145.409217\n",
       "4       Muy_alto  138.993497"
      ]
     },
     "execution_count": 22,
     "metadata": {},
     "output_type": "execute_result"
    }
   ],
   "source": [
    "df_estancia.head()"
   ]
  },
  {
   "cell_type": "code",
   "execution_count": 23,
   "metadata": {},
   "outputs": [
    {
     "data": {
      "image/png": "[encoded data removed]",
      "text/plain": [
       "<Figure size 640x480 with 1 Axes>"
      ]
     },
     "metadata": {},
     "output_type": "display_data"
    }
   ],
   "source": [
    "plt.pie(df_estancia[\"price\"])\n",
    "\n",
    "# add a circle at the center to transform it in a donut chart\n",
    "my_circle=plt.Circle( (0,0), 0.7, color='white')\n",
    "p=plt.gcf()\n",
    "p.gca().add_artist(my_circle)\n",
    "\n",
    "plt.show()"
   ]
  },
  {
   "cell_type": "code",
   "execution_count": 24,
   "metadata": {},
   "outputs": [
    {
     "data": {
      "text/plain": [
       "<AxesSubplot:xlabel='estancia_media', ylabel='price'>"
      ]
     },
     "execution_count": 24,
     "metadata": {},
     "output_type": "execute_result"
    },
    {
     "data": {
      "image/png": "[encoded data removed]",
      "text/plain": [
       "<Figure size 640x480 with 1 Axes>"
      ]
     },
     "metadata": {},
     "output_type": "display_data"
    }
   ],
   "source": [
    "sns.barplot(x=df_estancia[\"estancia_media\"], y=df_estancia[\"price\"])"
   ]
  },
  {
   "cell_type": "code",
   "execution_count": 25,
   "metadata": {},
   "outputs": [
    {
     "data": {
      "text/html": [
       "<div>\n",
       "<style scoped>\n",
       "    .dataframe tbody tr th:only-of-type {\n",
       "        vertical-align: middle;\n",
       "    }\n",
       "\n",
       "    .dataframe tbody tr th {\n",
       "        vertical-align: top;\n",
       "    }\n",
       "\n",
       "    .dataframe thead th {\n",
       "        text-align: right;\n",
       "    }\n",
       "</style>\n",
       "<table border=\"1\" class=\"dataframe\">\n",
       "  <thead>\n",
       "    <tr style=\"text-align: right;\">\n",
       "      <th></th>\n",
       "      <th>neighbourhood</th>\n",
       "      <th>room_type</th>\n",
       "      <th>price</th>\n",
       "      <th>minimum_nights</th>\n",
       "      <th>number_of_reviews</th>\n",
       "      <th>reviews_per_month</th>\n",
       "      <th>availability_2020</th>\n",
       "      <th>estancia_media</th>\n",
       "    </tr>\n",
       "    <tr>\n",
       "      <th>F1</th>\n",
       "      <th></th>\n",
       "      <th></th>\n",
       "      <th></th>\n",
       "      <th></th>\n",
       "      <th></th>\n",
       "      <th></th>\n",
       "      <th></th>\n",
       "      <th></th>\n",
       "    </tr>\n",
       "  </thead>\n",
       "  <tbody>\n",
       "    <tr>\n",
       "      <th>0</th>\n",
       "      <td>Midtown</td>\n",
       "      <td>Entire home/apt</td>\n",
       "      <td>225</td>\n",
       "      <td>10</td>\n",
       "      <td>48</td>\n",
       "      <td>0.39</td>\n",
       "      <td>1</td>\n",
       "      <td>Medio</td>\n",
       "    </tr>\n",
       "  </tbody>\n",
       "</table>\n",
       "</div>"
      ],
      "text/plain": [
       "   neighbourhood        room_type  price  minimum_nights  number_of_reviews  \\\n",
       "F1                                                                            \n",
       "0        Midtown  Entire home/apt    225              10                 48   \n",
       "\n",
       "    reviews_per_month  availability_2020 estancia_media  \n",
       "F1                                                       \n",
       "0                0.39                  1          Medio  "
      ]
     },
     "execution_count": 25,
     "metadata": {},
     "output_type": "execute_result"
    }
   ],
   "source": [
    "df.head(1)"
   ]
  },
  {
   "cell_type": "markdown",
   "metadata": {},
   "source": [
    "    3. Contestad a las preguntas planteadas usando los principales estadísticos que hemos aprendido y gráficas que mejor se ajusten"
   ]
  },
  {
   "cell_type": "markdown",
   "metadata": {},
   "source": []
  }
 ],
 "metadata": {
  "kernelspec": {
   "display_name": "base",
   "language": "python",
   "name": "python3"
  },
  "language_info": {
   "codemirror_mode": {
    "name": "ipython",
    "version": 3
   },
   "file_extension": ".py",
   "mimetype": "text/x-python",
   "name": "python",
   "nbconvert_exporter": "python",
   "pygments_lexer": "ipython3",
   "version": "3.9.16"
  },
  "orig_nbformat": 4
 },
 "nbformat": 4,
 "nbformat_minor": 2
}
