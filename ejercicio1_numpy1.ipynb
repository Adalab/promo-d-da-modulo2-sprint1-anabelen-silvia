{
 "cells": [
  {
   "cell_type": "code",
   "execution_count": null,
   "metadata": {},
   "outputs": [],
   "source": []
  },
  {
   "attachments": {},
   "cell_type": "markdown",
   "metadata": {},
   "source": [
    "# En el ejercicio de hoy vamos a empezar a trabajar con NumPy. El objetivo de estos ejericicios es que creeis una serie de arrays, y hagáis una serie de operaciones matemáticas con ellos.\n",
    "## 1. Cread tres arrays: de una, dos y tres dimensiones.\n",
    "Lo podéis hacer usando los métodos de random que hemos aprendido o a través de listas em algunos casos.\n",
    "📌 Nota\n",
    "- El array de 2 dimensiones debe ser de 2 filas y 3 columnas\n",
    "- El array de 3 dimensiones debe ser de 2 matrices, 3 filas y 5 columnas\n"
   ]
  },
  {
   "cell_type": "code",
   "execution_count": 2,
   "metadata": {},
   "outputs": [],
   "source": [
    "import numpy as np"
   ]
  },
  {
   "cell_type": "code",
   "execution_count": 11,
   "metadata": {},
   "outputs": [
    {
     "data": {
      "text/plain": [
       "array([0.75317052, 0.29499343, 0.24749643])"
      ]
     },
     "execution_count": 11,
     "metadata": {},
     "output_type": "execute_result"
    }
   ],
   "source": [
    "array1 = np.random.rand(3) ## una dimension\n",
    "array1"
   ]
  },
  {
   "cell_type": "code",
   "execution_count": 12,
   "metadata": {},
   "outputs": [
    {
     "data": {
      "text/plain": [
       "1"
      ]
     },
     "execution_count": 12,
     "metadata": {},
     "output_type": "execute_result"
    }
   ],
   "source": [
    "array1.ndim"
   ]
  },
  {
   "cell_type": "code",
   "execution_count": 13,
   "metadata": {},
   "outputs": [
    {
     "data": {
      "text/plain": [
       "array([[3, 7, 4],\n",
       "       [0, 6, 7]])"
      ]
     },
     "execution_count": 13,
     "metadata": {},
     "output_type": "execute_result"
    }
   ],
   "source": [
    "array2 = np.random.randint(0,10, (2,3))  ## dos dimensiones\n",
    "array2"
   ]
  },
  {
   "cell_type": "code",
   "execution_count": 17,
   "metadata": {},
   "outputs": [
    {
     "data": {
      "text/plain": [
       "array([[[0.83468534, 0.52246004, 0.1551334 , 0.6700466 , 0.20334615],\n",
       "        [0.85232486, 0.48420393, 0.42154951, 0.58251219, 0.88429052],\n",
       "        [0.87067504, 0.28903165, 0.08796209, 0.27581987, 0.90529204]],\n",
       "\n",
       "       [[0.83534378, 0.72733253, 0.79034488, 0.89225171, 0.76180006],\n",
       "        [0.09526588, 0.39257668, 0.37658481, 0.10099676, 0.40292845],\n",
       "        [0.46401388, 0.88777016, 0.75739851, 0.69220485, 0.66440446]]])"
      ]
     },
     "execution_count": 17,
     "metadata": {},
     "output_type": "execute_result"
    }
   ],
   "source": [
    "array3 = np.random.random_sample((2,3,5))  ## tres dimensiones\n",
    "array3"
   ]
  },
  {
   "cell_type": "code",
   "execution_count": 16,
   "metadata": {},
   "outputs": [
    {
     "data": {
      "text/plain": [
       "3"
      ]
     },
     "execution_count": 16,
     "metadata": {},
     "output_type": "execute_result"
    }
   ],
   "source": [
    "array3.ndim"
   ]
  },
  {
   "attachments": {},
   "cell_type": "markdown",
   "metadata": {},
   "source": [
    "## 2. Chequed las las propiedades básicas de cada array que os hayáis creado. Usad en una función que nos devuelva las propiedades de una array que le pasemos.\n"
   ]
  },
  {
   "cell_type": "code",
   "execution_count": 39,
   "metadata": {},
   "outputs": [],
   "source": [
    "def propiedades(parametro):\n",
    "    print(parametro.shape)\n",
    "    print(parametro.size)\n",
    "    print(parametro.ndim)\n",
    "    print(parametro.dtype)\n",
    "       "
   ]
  },
  {
   "cell_type": "code",
   "execution_count": 40,
   "metadata": {},
   "outputs": [
    {
     "name": "stdout",
     "output_type": "stream",
     "text": [
      "(3,)\n",
      "3\n",
      "1\n",
      "float64\n"
     ]
    }
   ],
   "source": [
    "uno = propiedades(array1)\n",
    "uno"
   ]
  },
  {
   "cell_type": "code",
   "execution_count": 41,
   "metadata": {},
   "outputs": [
    {
     "name": "stdout",
     "output_type": "stream",
     "text": [
      "(2, 3)\n",
      "6\n",
      "2\n",
      "int64\n"
     ]
    }
   ],
   "source": [
    "dos = propiedades(array2)"
   ]
  },
  {
   "cell_type": "code",
   "execution_count": 42,
   "metadata": {},
   "outputs": [
    {
     "name": "stdout",
     "output_type": "stream",
     "text": [
      "(2, 3, 5)\n",
      "30\n",
      "3\n",
      "float64\n"
     ]
    }
   ],
   "source": [
    "tres = propiedades(array3)"
   ]
  },
  {
   "attachments": {},
   "cell_type": "markdown",
   "metadata": {},
   "source": [
    "## 3. Cread una matriz identidad de dos dimensiones de 3 filas y 3 columnas\n"
   ]
  },
  {
   "cell_type": "code",
   "execution_count": 44,
   "metadata": {},
   "outputs": [
    {
     "data": {
      "text/plain": [
       "array([[1., 0., 0.],\n",
       "       [0., 1., 0.],\n",
       "       [0., 0., 1.]])"
      ]
     },
     "execution_count": 44,
     "metadata": {},
     "output_type": "execute_result"
    }
   ],
   "source": [
    "array4 = np.eye(3,3)\n",
    "array4"
   ]
  },
  {
   "cell_type": "code",
   "execution_count": 46,
   "metadata": {},
   "outputs": [
    {
     "data": {
      "text/plain": [
       "array([[1., 0., 0.],\n",
       "       [0., 1., 0.],\n",
       "       [0., 0., 1.]])"
      ]
     },
     "execution_count": 46,
     "metadata": {},
     "output_type": "execute_result"
    }
   ],
   "source": [
    "array5 = np.identity(3)\n",
    "array5"
   ]
  },
  {
   "attachments": {},
   "cell_type": "markdown",
   "metadata": {},
   "source": [
    "## 4. Cread una matriz de tres dimensiones de unos igual a la martiz de tres dimensiones creada en el primer ejercicio.\n"
   ]
  },
  {
   "cell_type": "code",
   "execution_count": 57,
   "metadata": {},
   "outputs": [
    {
     "data": {
      "text/plain": [
       "array([[[1., 1., 1., 1., 1.],\n",
       "        [1., 1., 1., 1., 1.],\n",
       "        [1., 1., 1., 1., 1.]],\n",
       "\n",
       "       [[1., 1., 1., 1., 1.],\n",
       "        [1., 1., 1., 1., 1.],\n",
       "        [1., 1., 1., 1., 1.]]])"
      ]
     },
     "execution_count": 57,
     "metadata": {},
     "output_type": "execute_result"
    }
   ],
   "source": [
    "identity_unos = np.ones_like(array3)\n",
    "identity_unos"
   ]
  },
  {
   "attachments": {},
   "cell_type": "markdown",
   "metadata": {},
   "source": [
    "## 5. Es el momento de hacer algunas operaciones entre arrays\n",
    "    1. ¿Se puede sumar el array de dos dimensiones que creamos en el primer ejecicios a la matriz identidad? ¿Por qué?"
   ]
  },
  {
   "cell_type": "code",
   "execution_count": 58,
   "metadata": {},
   "outputs": [
    {
     "ename": "ValueError",
     "evalue": "operands could not be broadcast together with shapes (2,3) (2,3,5) ",
     "output_type": "error",
     "traceback": [
      "\u001b[0;31m---------------------------------------------------------------------------\u001b[0m",
      "\u001b[0;31mValueError\u001b[0m                                Traceback (most recent call last)",
      "\u001b[1;32m/home/usuario/Escritorio/Adalab/modulo_2/pair_programming/promo-d-da-modulo2-sprint1-anabelen-silvia/ejercicio1_numpy1.ipynb Celda 20\u001b[0m in \u001b[0;36m1\n\u001b[0;32m----> <a href='vscode-notebook-cell:/home/usuario/Escritorio/Adalab/modulo_2/pair_programming/promo-d-da-modulo2-sprint1-anabelen-silvia/ejercicio1_numpy1.ipynb#X31sZmlsZQ%3D%3D?line=0'>1</a>\u001b[0m suma1 \u001b[39m=\u001b[39m np\u001b[39m.\u001b[39;49madd(array2, identity_unos)\n",
      "\u001b[0;31mValueError\u001b[0m: operands could not be broadcast together with shapes (2,3) (2,3,5) "
     ]
    }
   ],
   "source": [
    "suma1 = np.add(array2, identity_unos)"
   ]
  },
  {
   "attachments": {},
   "cell_type": "markdown",
   "metadata": {},
   "source": [
    "Resultado ejercicio 1: no se pueden sumar porque tienen dimensiones diferentes."
   ]
  },
  {
   "attachments": {},
   "cell_type": "markdown",
   "metadata": {},
   "source": [
    "    2. En caso de que no se puedan sumar, busca una solución para sumar una matriz identidad a otra. La solución puede ser crear un array nuevo."
   ]
  },
  {
   "cell_type": "code",
   "execution_count": 54,
   "metadata": {},
   "outputs": [
    {
     "data": {
      "text/plain": [
       "array([[[0.24016751, 0.54938233, 0.53669058, 0.84370045, 0.78580387],\n",
       "        [0.90739355, 0.20716197, 0.92557827, 0.12610793, 0.59952079],\n",
       "        [0.25357591, 0.57454642, 0.88624115, 0.70230502, 0.15884436]],\n",
       "\n",
       "       [[0.98328521, 0.28133376, 0.78422438, 0.70242359, 0.55800724],\n",
       "        [0.17979437, 0.1875222 , 0.77120391, 0.08032794, 0.1824301 ],\n",
       "        [0.16897845, 0.16406256, 0.21242432, 0.92089555, 0.57149618]]])"
      ]
     },
     "execution_count": 54,
     "metadata": {},
     "output_type": "execute_result"
    }
   ],
   "source": [
    "array7 = np.random.random_sample((2,3,5))\n",
    "array7"
   ]
  },
  {
   "cell_type": "code",
   "execution_count": 59,
   "metadata": {},
   "outputs": [
    {
     "data": {
      "text/plain": [
       "array([[[1.24016751, 1.54938233, 1.53669058, 1.84370045, 1.78580387],\n",
       "        [1.90739355, 1.20716197, 1.92557827, 1.12610793, 1.59952079],\n",
       "        [1.25357591, 1.57454642, 1.88624115, 1.70230502, 1.15884436]],\n",
       "\n",
       "       [[1.98328521, 1.28133376, 1.78422438, 1.70242359, 1.55800724],\n",
       "        [1.17979437, 1.1875222 , 1.77120391, 1.08032794, 1.1824301 ],\n",
       "        [1.16897845, 1.16406256, 1.21242432, 1.92089555, 1.57149618]]])"
      ]
     },
     "execution_count": 59,
     "metadata": {},
     "output_type": "execute_result"
    }
   ],
   "source": [
    "suma2 = np.add(array7, identity_unos)\n",
    "suma2"
   ]
  },
  {
   "attachments": {},
   "cell_type": "markdown",
   "metadata": {},
   "source": [
    "    3. Multiplicad la matriz identidad por la nueva matriz que os creasteis en el ejercicio anterior."
   ]
  },
  {
   "cell_type": "code",
   "execution_count": 60,
   "metadata": {},
   "outputs": [
    {
     "data": {
      "text/plain": [
       "array([[[0.24016751, 0.54938233, 0.53669058, 0.84370045, 0.78580387],\n",
       "        [0.90739355, 0.20716197, 0.92557827, 0.12610793, 0.59952079],\n",
       "        [0.25357591, 0.57454642, 0.88624115, 0.70230502, 0.15884436]],\n",
       "\n",
       "       [[0.98328521, 0.28133376, 0.78422438, 0.70242359, 0.55800724],\n",
       "        [0.17979437, 0.1875222 , 0.77120391, 0.08032794, 0.1824301 ],\n",
       "        [0.16897845, 0.16406256, 0.21242432, 0.92089555, 0.57149618]]])"
      ]
     },
     "execution_count": 60,
     "metadata": {},
     "output_type": "execute_result"
    }
   ],
   "source": [
    "producto1 = np.multiply(array7, identity_unos)\n",
    "producto1"
   ]
  },
  {
   "cell_type": "code",
   "execution_count": 61,
   "metadata": {},
   "outputs": [
    {
     "name": "stdout",
     "output_type": "stream",
     "text": [
      "[[[0.24016751 0.54938233 0.53669058 0.84370045 0.78580387]\n",
      "  [0.90739355 0.20716197 0.92557827 0.12610793 0.59952079]\n",
      "  [0.25357591 0.57454642 0.88624115 0.70230502 0.15884436]]\n",
      "\n",
      " [[0.98328521 0.28133376 0.78422438 0.70242359 0.55800724]\n",
      "  [0.17979437 0.1875222  0.77120391 0.08032794 0.1824301 ]\n",
      "  [0.16897845 0.16406256 0.21242432 0.92089555 0.57149618]]]\n"
     ]
    }
   ],
   "source": [
    "producto2 = print(array7 * identity_unos)\n",
    "producto2"
   ]
  },
  {
   "attachments": {},
   "cell_type": "markdown",
   "metadata": {},
   "source": [
    "    4. Dividid las dos matrices"
   ]
  },
  {
   "cell_type": "code",
   "execution_count": 65,
   "metadata": {},
   "outputs": [
    {
     "data": {
      "text/plain": [
       "array([[[0.24016751, 0.54938233, 0.53669058, 0.84370045, 0.78580387],\n",
       "        [0.90739355, 0.20716197, 0.92557827, 0.12610793, 0.59952079],\n",
       "        [0.25357591, 0.57454642, 0.88624115, 0.70230502, 0.15884436]],\n",
       "\n",
       "       [[0.98328521, 0.28133376, 0.78422438, 0.70242359, 0.55800724],\n",
       "        [0.17979437, 0.1875222 , 0.77120391, 0.08032794, 0.1824301 ],\n",
       "        [0.16897845, 0.16406256, 0.21242432, 0.92089555, 0.57149618]]])"
      ]
     },
     "execution_count": 65,
     "metadata": {},
     "output_type": "execute_result"
    }
   ],
   "source": [
    "division1 = np.divide(array7, identity_unos)\n",
    "division1\n"
   ]
  },
  {
   "cell_type": "code",
   "execution_count": 66,
   "metadata": {},
   "outputs": [
    {
     "name": "stdout",
     "output_type": "stream",
     "text": [
      "[[[ 4.16376057  1.82022601  1.86327099  1.18525479  1.27258217]\n",
      "  [ 1.10205765  4.82714075  1.08040566  7.92971563  1.66799887]\n",
      "  [ 3.94359234  1.74050341  1.12836106  1.42388274  6.29547066]]\n",
      "\n",
      " [[ 1.01699892  3.55449701  1.27514526  1.4236424   1.79209143]\n",
      "  [ 5.56190956  5.33270198  1.29667392 12.44896912  5.48155164]\n",
      "  [ 5.9179144   6.09523585  4.70755901  1.08589948  1.74979297]]]\n"
     ]
    }
   ],
   "source": [
    "division2 = print(identity_unos/array7)"
   ]
  }
 ],
 "metadata": {
  "kernelspec": {
   "display_name": "adalabenv",
   "language": "python",
   "name": "python3"
  },
  "language_info": {
   "codemirror_mode": {
    "name": "ipython",
    "version": 3
   },
   "file_extension": ".py",
   "mimetype": "text/x-python",
   "name": "python",
   "nbconvert_exporter": "python",
   "pygments_lexer": "ipython3",
   "version": "3.10.9"
  },
  "orig_nbformat": 4
 },
 "nbformat": 4,
 "nbformat_minor": 2
}
