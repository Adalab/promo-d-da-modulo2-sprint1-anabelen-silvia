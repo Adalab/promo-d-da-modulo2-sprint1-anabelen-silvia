{
 "cells": [
  {
   "attachments": {},
   "cell_type": "markdown",
   "metadata": {},
   "source": [
    "La exploración de datos es una parte crítica del proceso de análisis de datos. Para los analistas de datos, hacer una exploración de datos con Pandas es importante por varias razones:\n",
    "Comprender los datos: antes de comenzar a analizar datos, es importante comprender los datos con los que se está trabajando.\n",
    "Identificar problemas de calidad de datos: los datos pueden contener errores, valores faltantes o datos duplicados. Al utilizar Pandas, como analistas de datos podemos identificar rápidamente estos problemas y determinar la mejor manera de abordarlos antes de comenzar a analizar los datos.\n",
    "Identificar patrones y tendencias: al explorar los datos con Pandas, los analistas de datos podemos identificar patrones y tendencias en los datos que pueden ayudar a generar ideas y obtener información valiosa.\n",
    "En resumen, hacer una exploración de datos con Pandas es esencial para cualquier analista de datos, ya que puede ayudar a comprender los datos, identificar problemas de calidad de datos, identificar patrones y tendencias y visualizar los datos para una mejor comprensión y presentación de los resultados del análisis. En los próximos pair programmings vamos a empezar a explorar los datos para identificar posibles problemas en los datos, comprender los datos y familiarizanos con ellos."
   ]
  },
  {
   "attachments": {},
   "cell_type": "markdown",
   "metadata": {},
   "source": [
    "1. Cargar todos los datasets que os hemos compartido en este pair programming."
   ]
  },
  {
   "attachments": {},
   "cell_type": "markdown",
   "metadata": {},
   "source": [
    "2. Haced una exploración básica cada uno de los DataFrames, esta exploración debe incluir:\n",
    "\n",
    "- ¿Cuántas filas y columnas tiene el DataFrame?\n",
    "\n",
    "- Mostrad las primeras cinco filas y las últimas cinco filas del DataFrame.\n",
    "\n",
    "- Mostrad 2 filas al azar del DataFrame.\n",
    "\n",
    "- ¿Cuál es el nombre de las columnas del DataFrame?\n",
    "\n",
    "- ¿Cuáles son los principales estádisticos del DataFrame? Mostrad por separado las variables categóricas y las variables numéricas.\n",
    "\n",
    "- ¿Cuál es el porcentaje de valores nulos en cada columna?\n",
    "\n",
    "- ¿Cuántos valores únicos tenemos para cada una de las columnas?\n",
    "\n",
    "- De aquellas columnas que tengan menos de 6 elementos únicos mostrad cada uno de sus valores únicos."
   ]
  },
  {
   "attachments": {},
   "cell_type": "markdown",
   "metadata": {},
   "source": [
    "📌 NOTA Fijaos que vamos a hacer lo mismo para cada archivo que tenemos. Una buena práctica sería crearnos una función que apliquemos a cada conjunto de datos. Nuestra función recibirá un parámetro, que será el dataframe entero\n",
    "\n",
    "📌 NOTA Nos estamos convirtiendo en analistas de datos y no nos debe valer solo con escribir el código, os recomendamos que reviseis bien los resultados y empezais a extraer algunas conclusiones. ¿Hay datos raros en nuestros conjuntos de datos? ¿Tenemos nulos?, etc"
   ]
  },
  {
   "attachments": {},
   "cell_type": "markdown",
   "metadata": {},
   "source": [
    "3. Modificaciones básicas de los conjuntos de datos:\n",
    "\n",
    "- Cambiad el nombre de las columnas para que todas estén en minúsculas y reemplazad los espacios por _.\n",
    "\n",
    "- Para las columnas de web e índice en el archovo de 2016.xlsx ya hemos visto que tiene un único valor único, lo cual no tiene mucho sentido ya que no nos aporta información útil. En este ejercicios tendréis que eliminar dichas columnas del dataframe.\n",
    "\n",
    "- Establece la columna id_ticket de la tabla de 2016.xlsx como índice del DataFrame. "
   ]
  },
  {
   "attachments": {},
   "cell_type": "markdown",
   "metadata": {},
   "source": [
    "4. Guarda los csv's sobre los que hayáis hecho cambios para usarlos en próximos pairs ."
   ]
  }
 ],
 "metadata": {
  "kernelspec": {
   "display_name": "base",
   "language": "python",
   "name": "python3"
  },
  "language_info": {
   "name": "python",
   "version": "3.9.7"
  },
  "orig_nbformat": 4
 },
 "nbformat": 4,
 "nbformat_minor": 2
}
