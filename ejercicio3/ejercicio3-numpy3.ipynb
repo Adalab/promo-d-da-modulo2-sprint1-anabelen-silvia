{
 "cells": [
  {
   "attachments": {},
   "cell_type": "markdown",
   "metadata": {},
   "source": [
    "En esta lección hemps aprendido algunas de las operaciones matemáticas más importantes que podemos aplicar a un array. Hoy pondremos en práctica algunas de estas operaciones, además de recordar algunas de los métodos aprendidos en otras lecciones y recordar como podemos iterar por un array."
   ]
  },
  {
   "attachments": {},
   "cell_type": "markdown",
   "metadata": {},
   "source": [
    "1. Cread un array de tres dimensiones de 2 matrices, 3 filas y 5 columnas cuyos valores solo tengan 1 decimales. Sobre el array creado anteriormente, extraed:"
   ]
  },
  {
   "cell_type": "code",
   "execution_count": 1,
   "metadata": {},
   "outputs": [],
   "source": [
    "import numpy as np"
   ]
  },
  {
   "cell_type": "code",
   "execution_count": 11,
   "metadata": {},
   "outputs": [
    {
     "data": {
      "text/plain": [
       "array([[[0.7, 0.2, 0.8, 0. , 1. ],\n",
       "        [0.2, 0.3, 0.8, 0.3, 0.7],\n",
       "        [1. , 0.3, 0.2, 0. , 0.6]],\n",
       "\n",
       "       [[0.7, 0.5, 0.8, 0.7, 0.9],\n",
       "        [0.5, 0.4, 0.8, 0.5, 0.9],\n",
       "        [0.9, 0.2, 0.3, 0.8, 0.3]]])"
      ]
     },
     "execution_count": 11,
     "metadata": {},
     "output_type": "execute_result"
    }
   ],
   "source": [
    "array = np.round(np.random.random_sample((2,3,5)), 1)\n",
    "array"
   ]
  },
  {
   "cell_type": "markdown",
   "metadata": {},
   "source": [
    "2. Calculad la media del array y almacenarlos en una variable. Redondead a un decimal."
   ]
  },
  {
   "cell_type": "code",
   "execution_count": 12,
   "metadata": {},
   "outputs": [
    {
     "data": {
      "text/plain": [
       "0.5"
      ]
     },
     "execution_count": 12,
     "metadata": {},
     "output_type": "execute_result"
    }
   ],
   "source": [
    "media_array = np.round(np.mean(array), 1)\n",
    "\n",
    "media_array"
   ]
  },
  {
   "attachments": {},
   "cell_type": "markdown",
   "metadata": {},
   "source": [
    "3. Calculad el valor máximo del array y almacenarlos en una variable. Redondead a un decimal."
   ]
  },
  {
   "cell_type": "code",
   "execution_count": 13,
   "metadata": {},
   "outputs": [
    {
     "data": {
      "text/plain": [
       "1.0"
      ]
     },
     "execution_count": 13,
     "metadata": {},
     "output_type": "execute_result"
    }
   ],
   "source": [
    "max_array = np.round(np.max(array), 1)\n",
    "max_array"
   ]
  },
  {
   "attachments": {},
   "cell_type": "markdown",
   "metadata": {},
   "source": [
    "4. Calculad el valor mínimo del array y almacenarlos en una variable. Redondead a un decimal."
   ]
  },
  {
   "cell_type": "code",
   "execution_count": 14,
   "metadata": {},
   "outputs": [
    {
     "data": {
      "text/plain": [
       "0.0"
      ]
     },
     "execution_count": 14,
     "metadata": {},
     "output_type": "execute_result"
    }
   ],
   "source": [
    "min_array = np.round(np.min(array), 1)\n",
    "min_array"
   ]
  },
  {
   "attachments": {},
   "cell_type": "markdown",
   "metadata": {},
   "source": [
    "5. Cread un array vacío con la misma forma y dimensiones que el array creado anteriormente.\n",
    "Vamos a reemplazar los valores de la matriz vacía que nos acabamos de crear pero basándonos en los valores del primer array bajo las siguientes condiciones:\n",
    "Si el valor del array es igual que la media, se reemplaza por \"A\".\n",
    "Si el valor del array es mayor que la media, se reemplaza por \"B\".\n",
    "Si el valor del array es menor que la media, se reemplaza por \"C\".\n",
    "Si el valor es igual que el máximo, se reemplaza por \"D\".\n",
    "Si el valor es igual que el mínimo, se reemplaza por \"E\"."
   ]
  },
  {
   "cell_type": "code",
   "execution_count": 15,
   "metadata": {},
   "outputs": [
    {
     "data": {
      "text/plain": [
       "array([[[0.7, 0.2, 0.8, 0. , 1. ],\n",
       "        [0.2, 0.3, 0.8, 0.3, 0.7],\n",
       "        [1. , 0.3, 0.2, 0. , 0.6]],\n",
       "\n",
       "       [[0.7, 0.5, 0.8, 0.7, 0.9],\n",
       "        [0.5, 0.4, 0.8, 0.5, 0.9],\n",
       "        [0.9, 0.2, 0.3, 0.8, 0.3]]])"
      ]
     },
     "execution_count": 15,
     "metadata": {},
     "output_type": "execute_result"
    }
   ],
   "source": [
    "array"
   ]
  },
  {
   "cell_type": "code",
   "execution_count": 16,
   "metadata": {},
   "outputs": [
    {
     "data": {
      "text/plain": [
       "array([[['', '', '', '', ''],\n",
       "        ['', '', '', '', ''],\n",
       "        ['', '', '', '', '']],\n",
       "\n",
       "       [['', '', '', '', ''],\n",
       "        ['', '', '', '', ''],\n",
       "        ['', '', '', '', '']]], dtype='<U1')"
      ]
     },
     "execution_count": 16,
     "metadata": {},
     "output_type": "execute_result"
    }
   ],
   "source": [
    "array2 = np.empty_like(array, dtype= str)\n",
    "array2"
   ]
  },
  {
   "cell_type": "code",
   "execution_count": 17,
   "metadata": {},
   "outputs": [
    {
     "name": "stdout",
     "output_type": "stream",
     "text": [
      "[[['B' 'C' 'B' 'E' 'D']\n",
      "  ['C' 'C' 'B' 'C' 'B']\n",
      "  ['D' 'C' 'C' 'E' 'B']]\n",
      "\n",
      " [['B' 'A' 'B' 'B' 'B']\n",
      "  ['A' 'C' 'B' 'A' 'B']\n",
      "  ['B' 'C' 'C' 'B' 'C']]]\n"
     ]
    }
   ],
   "source": [
    "for i in range(0, array.shape[0]):\n",
    "    for e in range(0, array.shape[1]):\n",
    "        for elemento in range(0, array.shape[2]):\n",
    "            if array[i][e][elemento] == media_array:\n",
    "                array2[i][e][elemento] = \"A\"\n",
    "            elif array[i][e][elemento] == max_array:\n",
    "                array2[i][e][elemento] = \"D\"\n",
    "            elif array[i][e][elemento] == min_array:\n",
    "                array2[i][e][elemento] = \"E\"\n",
    "            elif array[i][e][elemento] > media_array:\n",
    "                array2[i][e][elemento] = \"B\"\n",
    "            elif array[i][e][elemento] < media_array:\n",
    "                array2[i][e][elemento] = \"C\"\n",
    "\n",
    "print(array2)"
   ]
  },
  {
   "cell_type": "code",
   "execution_count": 2,
   "metadata": {},
   "outputs": [
    {
     "data": {
      "text/plain": [
       "[[['A', 'B', 'C', 'B', 'C'],\n",
       "  ['C', 'B', 'B', 'C', 'C'],\n",
       "  ['D', 'C', 'C', 'B', 'C']],\n",
       " [['E', 'C', 'A', 'B', 'C'],\n",
       "  ['B', 'B', 'B', 'E', 'B'],\n",
       "  ['B', 'C', 'B', 'B', 'C']]]"
      ]
     },
     "execution_count": 2,
     "metadata": {},
     "output_type": "execute_result"
    }
   ],
   "source": [
    "# a modo de ejemplo. Si tenemos el siguiente array\n",
    "[[[0.4, 0.7, 0.2, 0.9, 0.2],\n",
    "    [0.1, 0.9, 0.6, 0.1, 0.2],\n",
    "    [1. , 0.2, 0.1, 0.8, 0.3]],\n",
    "\n",
    "   [[0. , 0.3, 0.4, 0.5, 0.1],\n",
    "    [0.5, 0.7, 0.9, 0. , 0.8],\n",
    "    [0.5, 0.3, 0.5, 0.8, 0.1]]]\n",
    "\n",
    "# sabiendo que la media es 0.4 y el máximo es 1.0 y el mínimo es 0.0\n",
    "\n",
    "# nuestro array vacío debería quedar como este: \n",
    "[[[\"A\", \"B\", \"C\", \"B\", \"C\"],\n",
    "    [\"C\", \"B\", \"B\", \"C\", \"C\"],\n",
    "    [\"D\" , \"C\", \"C\", \"B\", \"C\"]],\n",
    "\n",
    "   [[\"E\" , \"C\", \"A\", \"B\", \"C\"],\n",
    "    [\"B\", \"B\",\"B\", \"E\" , \"B\"],\n",
    "    [\"B\", \"C\", \"B\", \"B\", \"C\"]]]\n",
    "\n",
    "#💡 Pista 💡 Tendréis que iterar por el array y cambiar los valores de la matriz vacía. Para eso tendremos que usar distintos condicionales."
   ]
  },
  {
   "attachments": {},
   "cell_type": "markdown",
   "metadata": {},
   "source": [
    "6. Estupendo, tenemos un array con strings. Ahora realizaremos un ejercicio similar al anterior, pero en este caso nos crearemos un array vacío unidimensional de 30 elementos. Al final de este ejercicio acabaremos teniendo un array de tres dimensiones con la misma forma que el primero que nos creamos.\n",
    "En este caso:\n",
    "Si el valor del array creado en el ejercicio anterior es \"A\" o \"B\" lo reemplazaremos por 1\n",
    "Si el valor del array creado en el ejercicio anterior es \"C\" o \"D\" lo reemplazaremos por 2\n",
    "Si el valor del array creado en el ejercicio anterior es \"E\" lo reemplazaremos por 3.\n",
    "Una vez que hayas reemplazado todos los valores cambiad la forma del array para que sea de tres dimensiones, con 2 matrices, 3 filas y 5 columnas."
   ]
  },
  {
   "cell_type": "code",
   "execution_count": 36,
   "metadata": {},
   "outputs": [
    {
     "data": {
      "text/plain": [
       "array([1. , 0.2, 1. , 0. , 1. , 0.2, 0.3, 1. , 0.3, 1. , 1. , 0.3, 0.2,\n",
       "       0. , 1. , 1. , 1. , 1. , 1. , 1. , 1. , 0.4, 1. , 1. , 1. , 1. ,\n",
       "       0.2, 0.3, 1. , 0.3])"
      ]
     },
     "execution_count": 36,
     "metadata": {},
     "output_type": "execute_result"
    }
   ],
   "source": [
    "array_vacio = np.empty(30)\n",
    "array_vacio"
   ]
  },
  {
   "cell_type": "code",
   "execution_count": 20,
   "metadata": {},
   "outputs": [],
   "source": [
    "array3 = array2.reshape(1,1,30)"
   ]
  },
  {
   "cell_type": "code",
   "execution_count": 21,
   "metadata": {},
   "outputs": [
    {
     "data": {
      "text/plain": [
       "array([[['B', 'C', 'B', 'E', 'D', 'C', 'C', 'B', 'C', 'B', 'D', 'C',\n",
       "         'C', 'E', 'B', 'B', 'A', 'B', 'B', 'B', 'A', 'C', 'B', 'A',\n",
       "         'B', 'B', 'C', 'C', 'B', 'C']]], dtype='<U1')"
      ]
     },
     "execution_count": 21,
     "metadata": {},
     "output_type": "execute_result"
    }
   ],
   "source": [
    "array3"
   ]
  },
  {
   "cell_type": "code",
   "execution_count": 24,
   "metadata": {},
   "outputs": [
    {
     "data": {
      "text/plain": [
       "(1, 1, 30)"
      ]
     },
     "execution_count": 24,
     "metadata": {},
     "output_type": "execute_result"
    }
   ],
   "source": [
    "array3.shape"
   ]
  },
  {
   "cell_type": "code",
   "execution_count": 31,
   "metadata": {},
   "outputs": [
    {
     "data": {
      "text/plain": [
       "2"
      ]
     },
     "execution_count": 31,
     "metadata": {},
     "output_type": "execute_result"
    }
   ],
   "source": [
    "array_vacio"
   ]
  },
  {
   "cell_type": "code",
   "execution_count": 46,
   "metadata": {},
   "outputs": [
    {
     "data": {
      "text/plain": [
       "array([[[1, 2, 1, 3, 2],\n",
       "        [2, 2, 1, 2, 1],\n",
       "        [2, 2, 2, 3, 1]],\n",
       "\n",
       "       [[1, 1, 1, 1, 1],\n",
       "        [1, 2, 1, 1, 1],\n",
       "        [1, 2, 2, 1, 2]]])"
      ]
     },
     "execution_count": 46,
     "metadata": {},
     "output_type": "execute_result"
    }
   ],
   "source": [
    "for i in range(0, array3.shape[0]):\n",
    "    for e in range(0, array3.shape[1]):\n",
    "        for elemento in range(0, array3.shape[2]):\n",
    "            if array3[i][e][elemento] == \"A\" or array3[i][e][elemento] == \"B\":\n",
    "                array_vacio[elemento] = 1\n",
    "            elif array3[i][e][elemento] == \"C\" or array3[i][e][elemento] == \"D\":\n",
    "                array_vacio[elemento] = 2\n",
    "            elif array3[i][e][elemento] == \"E\":\n",
    "                array_vacio[elemento] = 3\n",
    "for i in array_vacio:\n",
    "    i = int(i)\n",
    "\n",
    "# Cambiamos el tipo del array a int                \n",
    "array_vacio.dtype = int\n",
    "\n",
    "# Hacemos el reshape a 3 dimensiones\n",
    "\n",
    "array_vacio = array_vacio.reshape(2,3,5)\n",
    "\n",
    "array_vacio"
   ]
  }
 ],
 "metadata": {
  "kernelspec": {
   "display_name": "base",
   "language": "python",
   "name": "python3"
  },
  "language_info": {
   "codemirror_mode": {
    "name": "ipython",
    "version": 3
   },
   "file_extension": ".py",
   "mimetype": "text/x-python",
   "name": "python",
   "nbconvert_exporter": "python",
   "pygments_lexer": "ipython3",
   "version": "3.9.7"
  },
  "orig_nbformat": 4
 },
 "nbformat": 4,
 "nbformat_minor": 2
}
