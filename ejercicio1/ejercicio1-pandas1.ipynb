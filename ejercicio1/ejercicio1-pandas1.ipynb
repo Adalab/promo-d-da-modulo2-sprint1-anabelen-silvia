{
 "cells": [
  {
   "attachments": {},
   "cell_type": "markdown",
   "metadata": {},
   "source": [
    "#El objetivo de la clase de hoy será crear unos cuántos DataFrames y Series a través de los siguientes ejercicios:\n",
    "\n",
    "    1. ¿Qué diferencia hay entre una Serie y un DataFrame?\n"
   ]
  },
  {
   "cell_type": "code",
   "execution_count": null,
   "metadata": {
    "vscode": {
     "languageId": "plaintext"
    }
   },
   "outputs": [],
   "source": []
  },
  {
   "attachments": {},
   "cell_type": "markdown",
   "metadata": {},
   "source": [
    "    2. Momento de trabajar con Series. Contestad a las siguientes preguntas:\n",
    "        1. Crea dos listas:\n",
    "            1. Una que se llame \"valores\" que tenga 7 números aleatorios.\n",
    "            2. Otra que se llame \"indices\" que tenga 7 strings que se llamen como los días de la semana.\n",
    "        2. A partir de estas dos listas cread una Serie donde la variable \"valores\" sean los valores de la Serie y la variable indices sean los índices de la Serie.\n",
    "        3. A partir de las dos listas anteriores cread un diccionario usando un bucle for. Para hacer esto tenemos el método zip que nos permite iterar por dos listas a la vez. Más informción sobre este método aquí.\n",
    "        4. Crea una Serie con el diccionario creado en el punto anterior.\n",
    "        5. ¿Qué forma tiene esta última Serie?\n",
    "        6. ¿Qué tipo de datos tiene?\n",
    "        7. ¿Qué tamaño tiene?\n",
    "        8. ¿Cuáles son los índices de la Serie?\n",
    "        9. ¿Y los values?\n",
    "        10. Extraed el valor para el índice \"lunes\"\n",
    "        11. Extraed el valor para el índice \"lunes\", \"martes\" y \"miércoles\".\n",
    "        12. Extraed el valor para el índice \"lunes\" y \"domingo\".\n"
   ]
  },
  {
   "cell_type": "markdown",
   "metadata": {},
   "source": [
    "    3. Es el turno de los DataFrames\n",
    "        1. Cread un array de dos dimensiones con 4 filas y 3 columnas.\n",
    "        2. Convertid el array en un DataFrame donde las columnas se llamen \"España\", \"Francia\" e \"Italia\".\n",
    "        3. Descargad el archivo \"medallas\" y cargad el DataFrame con la siguiente línea de código:\n",
    "                df = pd.read_csv(\"medallas.csv\", index_col=[\"País\"])\n",
    "                📌 NOTA Para evitar problemas guardar el archivo medallas.csv a la misma altura (en la misma carpeta) que el jupyter donde estamos trabajando.\n",
    "        4. Usando el loc extraed todas las columnas de la fila de Tailandia.\n",
    "        5. Usando el loc extraed todas las columnas de China e Irán.\n",
    "        6. Usando el loc extraed solo las columnas de \"Oro\", \"Plata\" y \"Bronce\" de China e Irán.\n",
    "        7. Usando el iloc extraed la información de la India. Devolved todas las columnas.\n",
    "        8. Usando el iloc extraed todas las columnas de los paises que estén en posición impar. La primera que nos tendría que salir es Japón y la última Corea del Norte.\n",
    "        9. Utilizando el código del ejercicio anterior, seleccionad unicamente las columnas \"Oro\", \"Plata\" y \"Bronce\".\n",
    "        10. Contestad a las siguientes preguntas:\n",
    "            1. ¿Qué país consiguió más de 200 medallas de oro?\n",
    "            2. ¿Qué país consiguió más de 200 medallas de oro y más de 1000 de plata?\n",
    "            3. ¿Qué país consiguió más de 200 medallas de oro o más de 700 de bronce?\n",
    "        11. Como vemos hay una columna que se llama Unnamed: 0 que no nos interesa. Eliminad esa columna.\n",
    "        12. Cread una nueva columma que se llame \"total\" que sea el resultado de la suma de todas las medallas obtenidas por cada país."
   ]
  }
 ],
 "metadata": {
  "kernelspec": {
   "display_name": "adalabenv",
   "language": "python",
   "name": "python3"
  },
  "language_info": {
   "codemirror_mode": {
    "name": "ipython",
    "version": 3
   },
   "file_extension": ".py",
   "mimetype": "text/x-python",
   "name": "python",
   "nbconvert_exporter": "python",
   "pygments_lexer": "ipython3",
   "version": "3.10.9"
  },
  "orig_nbformat": 4
 },
 "nbformat": 4,
 "nbformat_minor": 2
}
