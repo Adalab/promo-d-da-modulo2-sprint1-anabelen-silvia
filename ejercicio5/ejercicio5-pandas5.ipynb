{
 "cells": [
  {
   "attachments": {},
   "cell_type": "markdown",
   "id": "63377655",
   "metadata": {},
   "source": [
    "#  Programming Pandas V\n",
    "\n",
    "En este ejercicio pondremos en práctica los conceptos básicos para juntar varios csv que compartan información.\n",
    "En pairs anteriores habíamos explorado algunos conjuntos de datos, estos conjuntos de datos eran:\n",
    "El csv que creamos en el ejercicio de pair programming Pandas IV, dónde recordamos eliminamos ciertas columnas que no eran necesarias, y habíamos creado nuevas.\n",
    "El csv llamado Empleados donde tenemos información sobre los empleados de la empresa, este fichero lo tenéis un poco mas abajo para descargar.\n",
    "El csv llamado Puestos donde tenemos información sobre los puestos que hay en la empresa y que departamento pertencen.\n",
    "El csv llamado Agentes donde tenemos información sobre los puestos que hay en la empresa y que departamento pertencen.\n",
    "El principal objetivo de este ejercicio de pair programming es acabar teniendo un único DataFrame con toda la información contenida en los tres csv anteriores.\n",
    "Antes de empezar, deberéis crear una columna nueva en los dataframes de 2016.xlsx, 2017.xlsx, 2018.xlsx, 2019.xlsx, 2020.xlsx que contenga los valores del año al que corresponden.\n",
    "Para llevar a cabo nuestro objetivo tendréis que seguir los siguientes pasos:\n",
    "\n",
    "    1. Cargad los siete ficheros nombrados anteriormente y los exploramos para familizarizarnos con ellos y saber que información tienen en común y debatir entre vosotras como podríamos juntar toda la información.\n"
   ]
  },
  {
   "attachments": {},
   "cell_type": "markdown",
   "id": "097304a3",
   "metadata": {},
   "source": [
    "\n",
    "    2. Chequead que los nombres de las columnas y ver si se llaman iguales entre dataframes. ¿Están todas en minúsculas? ¿Tienen espacios? En caso de que no sea así homogeneizar los nombres de las columnas para que todos los dataframes tengan el mismo formato.\n"
   ]
  },
  {
   "attachments": {},
   "cell_type": "markdown",
   "id": "6444e51d",
   "metadata": {},
   "source": [
    "    3.  este momento nos habremos dado cuenta que el DataFrame que generamos en el pair programming Pandas IV es similar al DataFrame de los datos históricos (2017.xlsx, 2018.xlsx, 2019.xlsx, 2020.xlsx). Si recordamos, eliminamos algunas columnas en la sesión III que no eran útiles, tendréis que ver si esas columnas están en los dataframes nuevos, si es así eliminarlas. Por lo tanto, realizad los cambios que creáis necesarios para que los dataframes sean iguales y luego juntadlos usando el mejor método.\n"
   ]
  },
  {
   "attachments": {},
   "cell_type": "markdown",
   "id": "152cff11",
   "metadata": {},
   "source": [
    "    4. Es el momento de unir la información de todos los puestos y los empleados. Debatid que método es el más correcto para unir toda esta información y ejecutadlo.\n"
   ]
  },
  {
   "cell_type": "markdown",
   "id": "a1d5cd99",
   "metadata": {},
   "source": [
    "    5. Guardad los dataframes en dos csv diferentes que usaremos mañana en la clase de pair programming\n",
    "📌 NOTA Al final de este pair programing deberéis tener tres ficheros:\n",
    "El fichero de la unión de todos los conjuntos de datos de los distintos años\n",
    "El fichero con la unión de los datos de puestos y empleados.\n",
    "El fichero de los agentes."
   ]
  }
 ],
 "metadata": {
  "kernelspec": {
   "display_name": "Python 3 (ipykernel)",
   "language": "python",
   "name": "python3"
  },
  "language_info": {
   "codemirror_mode": {
    "name": "ipython",
    "version": 3
   },
   "file_extension": ".py",
   "mimetype": "text/x-python",
   "name": "python",
   "nbconvert_exporter": "python",
   "pygments_lexer": "ipython3",
   "version": "3.10.9"
  },
  "toc": {
   "base_numbering": 1,
   "nav_menu": {},
   "number_sections": true,
   "sideBar": true,
   "skip_h1_title": false,
   "title_cell": "Table of Contents",
   "title_sidebar": "Contents",
   "toc_cell": true,
   "toc_position": {},
   "toc_section_display": true,
   "toc_window_display": true
  }
 },
 "nbformat": 4,
 "nbformat_minor": 5
}
