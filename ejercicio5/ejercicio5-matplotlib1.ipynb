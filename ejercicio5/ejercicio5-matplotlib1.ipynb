{
 "cells": [
  {
   "attachments": {},
   "cell_type": "markdown",
   "id": "dd807730",
   "metadata": {},
   "source": [
    "# Pair Programming Visualización I\n",
    "\n",
    "Es el momento de ponernos manos a la obra con la visualización de datos. En este primer ejercicio de pair programming trabajaremos con los csv que generamos en el ejercicio de pair programming de Pandas III, ese en el que habíamos eliminado algunas columnas de nuestro csv.\n",
    "Hoy realizaremos una serie de gráficas usando la librería de matplotlib para familiarizarnos un poco con los datos.\n",
    "📌 Para poder solucionar los ejercicios de hoy no solo tendremos que visualizar, también tendremos que usar métodos que hemos aprendido en lecciones anteriores de Pandas como por ejemplo value_counts(), isnull, describe, etc.\n",
    "Tendréis que realizar gráficas para contestar a las siguientes preguntas:\n",
    "\n",
    "    1. ¿Cuántos tickets tenemos de cada tipo?\n"
   ]
  },
  {
   "attachments": {},
   "cell_type": "markdown",
   "id": "9c13ade0",
   "metadata": {},
   "source": [
    "    2. ¿Cuál es el porcentaje de nulos por columna? Usa un pie chart donde incluyáis el porcentaje de cada variable en el interior del quesito. Para eso tendréis que usar el parámetro autopct,  algo de documentación.\n"
   ]
  },
  {
   "attachments": {},
   "cell_type": "markdown",
   "id": "9f2af00f",
   "metadata": {},
   "source": [
    "    3.  Filtrar los datos para quedarnos solo con los datos de la categoría \"Software\".\n"
   ]
  },
  {
   "attachments": {},
   "cell_type": "markdown",
   "id": "3846a3a9",
   "metadata": {},
   "source": [
    "        3.1. Dentro del conjunto de datos filtrado que acabamos de generar, realiza la mejor visualización para mostrar cuantos tickets tenemos de cada tipo que tenemos (Problema o Solicitud).\n"
   ]
  },
  {
   "attachments": {},
   "cell_type": "markdown",
   "id": "991cbfb6",
   "metadata": {},
   "source": [
    "        3.2. Usando el mismo conjunto de datos filtrado, ¿existe alguna relación entre la satisfacción y los días de resolución?. Poned los nombres de los ejes, siendo el eje x los \"días de resolución\" y el eje y la \"satisfacción\".\n"
   ]
  },
  {
   "attachments": {},
   "cell_type": "markdown",
   "id": "baeea54f",
   "metadata": {},
   "source": [
    "        3.3. Usando el mismo conjunto de datos filtrado, ¿cuál es la frecuencia de cada una de las satisfacciones que tenemos en el conjunto de datos?\n"
   ]
  },
  {
   "cell_type": "markdown",
   "id": "e24fa5d2",
   "metadata": {},
   "source": [
    "    4. En el ejercicio anterior hemos filtrado por \"Software\", realizar los mismos ejercicios que en el ejercicio 3, solo que en este caso filtrar por \"Hardware\"\n",
    "    \n",
    "Como ya hemos dicho en algunas ocasiones, somo analistas de datos y no debemos conformarnos solo con escribir el código y que nos devuelva una gráfica. Una vez que hayáis terminado de hacer las gráficas, interpretad los resultados obtenidos de las gráficas creadas en el ejercicio 3 y 4. El objetivo, hacer una comparación entre la categoría \"Software\" y \"Hardware\", por ejemplo, ¿están los clientes que tienen problemas de la categoría \"Software\" más satisfechos que los clientes de la categoría \"Hardware\"."
   ]
  }
 ],
 "metadata": {
  "kernelspec": {
   "display_name": "Python 3 (ipykernel)",
   "language": "python",
   "name": "python3"
  },
  "language_info": {
   "codemirror_mode": {
    "name": "ipython",
    "version": 3
   },
   "file_extension": ".py",
   "mimetype": "text/x-python",
   "name": "python",
   "nbconvert_exporter": "python",
   "pygments_lexer": "ipython3",
   "version": "3.10.9"
  },
  "toc": {
   "base_numbering": 1,
   "nav_menu": {},
   "number_sections": true,
   "sideBar": true,
   "skip_h1_title": false,
   "title_cell": "Table of Contents",
   "title_sidebar": "Contents",
   "toc_cell": true,
   "toc_position": {},
   "toc_section_display": true,
   "toc_window_display": true
  }
 },
 "nbformat": 4,
 "nbformat_minor": 5
}
