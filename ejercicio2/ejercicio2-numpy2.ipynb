{
 "cells": [
  {
   "attachments": {},
   "cell_type": "markdown",
   "metadata": {},
   "source": [
    "# Seguimos trabajando con NumPy, en este caso practicaremos como acceder a distintos elementos de nuestros arrays y como cambiar su forma para poder hacer operaciones entre varios arrays.\n",
    "    1. Cread un array de dos dimensiones de 5 filas y 3 columnas. Sobre el array creado anteriormente, extraed:\n"
   ]
  },
  {
   "cell_type": "code",
   "execution_count": 2,
   "metadata": {},
   "outputs": [],
   "source": [
    "import numpy as np"
   ]
  },
  {
   "cell_type": "code",
   "execution_count": 12,
   "metadata": {},
   "outputs": [
    {
     "data": {
      "text/plain": [
       "array([[0.17564554, 0.72029644, 0.45799372],\n",
       "       [0.9279626 , 0.85483293, 0.39729669],\n",
       "       [0.25231247, 0.13288668, 0.27450627],\n",
       "       [0.36086191, 0.48353721, 0.54335961],\n",
       "       [0.7539617 , 0.2008151 , 0.68936149]])"
      ]
     },
     "execution_count": 12,
     "metadata": {},
     "output_type": "execute_result"
    }
   ],
   "source": [
    "array1 = np.random.random_sample((5,3))\n",
    "array1"
   ]
  },
  {
   "attachments": {},
   "cell_type": "markdown",
   "metadata": {},
   "source": [
    "        1. El valor de la primera fila y la segunda columna.\n"
   ]
  },
  {
   "cell_type": "code",
   "execution_count": 13,
   "metadata": {},
   "outputs": [
    {
     "data": {
      "text/plain": [
       "0.7202964374930886"
      ]
     },
     "execution_count": 13,
     "metadata": {},
     "output_type": "execute_result"
    }
   ],
   "source": [
    "array1[0,1]"
   ]
  },
  {
   "attachments": {},
   "cell_type": "markdown",
   "metadata": {},
   "source": [
    "        2. Los valores de la segunda fila y las dos primeras columnas.\n"
   ]
  },
  {
   "cell_type": "code",
   "execution_count": 14,
   "metadata": {},
   "outputs": [
    {
     "data": {
      "text/plain": [
       "array([0.9279626 , 0.85483293])"
      ]
     },
     "execution_count": 14,
     "metadata": {},
     "output_type": "execute_result"
    }
   ],
   "source": [
    "array1[1, :2]"
   ]
  },
  {
   "attachments": {},
   "cell_type": "markdown",
   "metadata": {},
   "source": [
    "        3. Extraed las filas pares (incluyendo la 0) y todas las columnas.\n"
   ]
  },
  {
   "cell_type": "code",
   "execution_count": 15,
   "metadata": {},
   "outputs": [
    {
     "data": {
      "text/plain": [
       "array([[0.17564554, 0.72029644, 0.45799372],\n",
       "       [0.25231247, 0.13288668, 0.27450627],\n",
       "       [0.7539617 , 0.2008151 , 0.68936149]])"
      ]
     },
     "execution_count": 15,
     "metadata": {},
     "output_type": "execute_result"
    }
   ],
   "source": [
    "array1[::2]"
   ]
  },
  {
   "attachments": {},
   "cell_type": "markdown",
   "metadata": {},
   "source": [
    "        4.  Extraed los valores que sean mayores que 0.5.\n"
   ]
  },
  {
   "cell_type": "code",
   "execution_count": 16,
   "metadata": {},
   "outputs": [
    {
     "data": {
      "text/plain": [
       "array([0.72029644, 0.9279626 , 0.85483293, 0.54335961, 0.7539617 ,\n",
       "       0.68936149])"
      ]
     },
     "execution_count": 16,
     "metadata": {},
     "output_type": "execute_result"
    }
   ],
   "source": [
    "array1[array1 > 0.5]"
   ]
  },
  {
   "cell_type": "markdown",
   "metadata": {},
   "source": [
    "        5. Extraed los valores menores que 0.2 o mayores que 0.5\n"
   ]
  },
  {
   "cell_type": "code",
   "execution_count": 17,
   "metadata": {},
   "outputs": [
    {
     "data": {
      "text/plain": [
       "array([0.17564554, 0.72029644, 0.9279626 , 0.85483293, 0.13288668,\n",
       "       0.54335961, 0.7539617 , 0.68936149])"
      ]
     },
     "execution_count": 17,
     "metadata": {},
     "output_type": "execute_result"
    }
   ],
   "source": [
    "array1[(array1 > 0.5) | (array1 < 0.2)]"
   ]
  },
  {
   "attachments": {},
   "cell_type": "markdown",
   "metadata": {},
   "source": [
    "    2. Cread dos array de tres dimensiones:\n",
    "        1. El primero de 2 matrices, 5 filas y 3 columnas.\n"
   ]
  },
  {
   "cell_type": "code",
   "execution_count": 21,
   "metadata": {},
   "outputs": [
    {
     "data": {
      "text/plain": [
       "array([[[21,  4, 24],\n",
       "        [21,  4, 48],\n",
       "        [37, 14, 25],\n",
       "        [47,  5, 27],\n",
       "        [21, 18, 26]],\n",
       "\n",
       "       [[ 4, 48, 47],\n",
       "        [16, 41, 36],\n",
       "        [37, 36,  7],\n",
       "        [19,  5, 21],\n",
       "        [44, 25, 14]]])"
      ]
     },
     "execution_count": 21,
     "metadata": {},
     "output_type": "execute_result"
    }
   ],
   "source": [
    "array2 = np.random.randint(1,50, (2,5,3))\n",
    "array3 = np.random.randint(1,50, (3,2,5))\n",
    "array2"
   ]
  },
  {
   "cell_type": "code",
   "execution_count": 22,
   "metadata": {},
   "outputs": [
    {
     "data": {
      "text/plain": [
       "array([[[19,  6, 14, 47,  5],\n",
       "        [31, 16, 42, 20, 28]],\n",
       "\n",
       "       [[36, 40, 13, 34, 13],\n",
       "        [ 1,  9, 33, 32, 19]],\n",
       "\n",
       "       [[28, 14, 47, 47, 20],\n",
       "        [ 7, 33, 32, 16, 29]]])"
      ]
     },
     "execution_count": 22,
     "metadata": {},
     "output_type": "execute_result"
    }
   ],
   "source": [
    "array3"
   ]
  },
  {
   "attachments": {},
   "cell_type": "markdown",
   "metadata": {},
   "source": [
    "        2. El segundo de 3 matrices, 2 filas y 5 columnas\n"
   ]
  },
  {
   "attachments": {},
   "cell_type": "markdown",
   "metadata": {},
   "source": [
    "        3. Haced un análisis exploratorio de los array creados. Recordad que en el ejercicio de ayer nos creamos una función para esto.\n"
   ]
  },
  {
   "cell_type": "code",
   "execution_count": 23,
   "metadata": {},
   "outputs": [],
   "source": [
    "def propiedades(parametro):\n",
    "    print(parametro.shape)\n",
    "    print(parametro.size)\n",
    "    print(parametro.ndim)\n",
    "    print(parametro.dtype)"
   ]
  },
  {
   "cell_type": "code",
   "execution_count": 24,
   "metadata": {},
   "outputs": [
    {
     "name": "stdout",
     "output_type": "stream",
     "text": [
      "(2, 5, 3)\n",
      "30\n",
      "3\n",
      "int64\n"
     ]
    }
   ],
   "source": [
    "propiedades(array2)"
   ]
  },
  {
   "cell_type": "code",
   "execution_count": 25,
   "metadata": {},
   "outputs": [
    {
     "name": "stdout",
     "output_type": "stream",
     "text": [
      "(3, 2, 5)\n",
      "30\n",
      "3\n",
      "int64\n"
     ]
    }
   ],
   "source": [
    "propiedades(array3)"
   ]
  },
  {
   "attachments": {},
   "cell_type": "markdown",
   "metadata": {},
   "source": [
    "        4. Sumad los dos arrays. ¿Podéis? ¿Por qué?\n"
   ]
  },
  {
   "cell_type": "code",
   "execution_count": 26,
   "metadata": {},
   "outputs": [
    {
     "ename": "ValueError",
     "evalue": "operands could not be broadcast together with shapes (2,5,3) (3,2,5) ",
     "output_type": "error",
     "traceback": [
      "\u001b[0;31m---------------------------------------------------------------------------\u001b[0m",
      "\u001b[0;31mValueError\u001b[0m                                Traceback (most recent call last)",
      "\u001b[1;32m/home/usuario/Escritorio/Adalab/modulo_2/pair_programming/promo-d-da-modulo2-sprint1-anabelen-silvia/ejercicio2/ejercicio2-numpy2.ipynb Celda 23\u001b[0m in \u001b[0;36m1\n\u001b[0;32m----> <a href='vscode-notebook-cell:/home/usuario/Escritorio/Adalab/modulo_2/pair_programming/promo-d-da-modulo2-sprint1-anabelen-silvia/ejercicio2/ejercicio2-numpy2.ipynb#X34sZmlsZQ%3D%3D?line=0'>1</a>\u001b[0m array4 \u001b[39m=\u001b[39m np\u001b[39m.\u001b[39;49madd(array2, array3)\n",
      "\u001b[0;31mValueError\u001b[0m: operands could not be broadcast together with shapes (2,5,3) (3,2,5) "
     ]
    }
   ],
   "source": [
    "array4 = np.add(array2, array3)"
   ]
  },
  {
   "attachments": {},
   "cell_type": "markdown",
   "metadata": {},
   "source": [
    "No se puede porque tienen diferente forma."
   ]
  },
  {
   "cell_type": "markdown",
   "metadata": {},
   "source": [
    "        5. Para cambiar la forma de un array y poder hacer operaciones entre arrays que tienen distintas formas hemos aprendido dos métodos:\n",
    "            1. .reshape()\n",
    "            2. .transpose()\n",
    "             estas dos funciones para cambiar la forma de los array y hacer operaciones entre ellos."
   ]
  },
  {
   "cell_type": "code",
   "execution_count": 29,
   "metadata": {},
   "outputs": [],
   "source": [
    "array5 = np.reshape(array2, (3,2,5))"
   ]
  },
  {
   "cell_type": "code",
   "execution_count": 30,
   "metadata": {},
   "outputs": [
    {
     "data": {
      "text/plain": [
       "array([[[21,  4, 24, 21,  4],\n",
       "        [48, 37, 14, 25, 47]],\n",
       "\n",
       "       [[ 5, 27, 21, 18, 26],\n",
       "        [ 4, 48, 47, 16, 41]],\n",
       "\n",
       "       [[36, 37, 36,  7, 19],\n",
       "        [ 5, 21, 44, 25, 14]]])"
      ]
     },
     "execution_count": 30,
     "metadata": {},
     "output_type": "execute_result"
    }
   ],
   "source": [
    "array5"
   ]
  },
  {
   "cell_type": "code",
   "execution_count": 33,
   "metadata": {},
   "outputs": [],
   "source": [
    "array6 = np.transpose(array2, (2,0,1))"
   ]
  },
  {
   "cell_type": "code",
   "execution_count": 32,
   "metadata": {},
   "outputs": [
    {
     "name": "stdout",
     "output_type": "stream",
     "text": [
      "(3, 2, 5)\n",
      "30\n",
      "3\n",
      "int64\n"
     ]
    }
   ],
   "source": [
    "propiedades(array3)"
   ]
  },
  {
   "cell_type": "code",
   "execution_count": 34,
   "metadata": {},
   "outputs": [
    {
     "name": "stdout",
     "output_type": "stream",
     "text": [
      "(3, 2, 5)\n",
      "30\n",
      "3\n",
      "int64\n"
     ]
    }
   ],
   "source": [
    "propiedades(array6)"
   ]
  },
  {
   "cell_type": "code",
   "execution_count": 36,
   "metadata": {},
   "outputs": [
    {
     "data": {
      "text/plain": [
       "array([[[40, 27, 51, 94, 26],\n",
       "        [35, 32, 79, 39, 72]],\n",
       "\n",
       "       [[40, 44, 27, 39, 31],\n",
       "        [49, 50, 69, 37, 44]],\n",
       "\n",
       "       [[52, 62, 72, 74, 46],\n",
       "        [54, 69, 39, 37, 43]]])"
      ]
     },
     "execution_count": 36,
     "metadata": {},
     "output_type": "execute_result"
    }
   ],
   "source": [
    "array8 = np.add(array6, array3)\n",
    "array8"
   ]
  }
 ],
 "metadata": {
  "kernelspec": {
   "display_name": "adalabenv",
   "language": "python",
   "name": "python3"
  },
  "language_info": {
   "codemirror_mode": {
    "name": "ipython",
    "version": 3
   },
   "file_extension": ".py",
   "mimetype": "text/x-python",
   "name": "python",
   "nbconvert_exporter": "python",
   "pygments_lexer": "ipython3",
   "version": "3.10.9"
  },
  "orig_nbformat": 4
 },
 "nbformat": 4,
 "nbformat_minor": 2
}
