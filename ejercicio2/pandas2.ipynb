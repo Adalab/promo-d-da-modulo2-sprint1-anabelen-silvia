{
 "cells": [
  {
   "attachments": {},
   "cell_type": "markdown",
   "metadata": {},
   "source": [
    "    1. Id cargando todos los ficheros en vuestro jupyter.\n",
    "📌 NOTA En la apertura del archivo de quejas.csv puede que os salga un error como este:\n",
    "\n",
    "Esto es debido a que habrá que indicar el encoding y el separador de este fichero. En concreto el encoding es de tipo \"ISO-8859-1\". El separador os lo dejamos a vosotras para que investigueis un poquito.\n",
    "\n",
    "        1. Utlizando el dataset de quejas.csv y usando el loc, quedaros solo con aquellos datos que correspondan a tipo \"Sugerencia\" (para solucionar este ejercicio tendréis que poner en práctica métodos aprendidos en la lección de ayer). En este caso querremos todas las columnas. Almacenad los resultados en nuevo dataframe que se llame df_sugerencias.\n"
   ]
  },
  {
   "attachments": {},
   "cell_type": "markdown",
   "metadata": {},
   "source": [
    "\n",
    "        2. Utlizando el dataset de quejas.csv y usando el loc,quedaros solo con aquellos datos que correspondan con canal de entrada \"Presencial\" y y que sean de tipo \"Queja\" (para solucionar este ejercicio tendréis que poner en práctica métodos aprendidos en la lección de ayer). En este caso solo querremos las columnas de \"fecha_entrada\" y \"fecha_contestacion\". Almacenad los resultados en nuevo dataframe que se llame df_queja_presencial.\n"
   ]
  },
  {
   "cell_type": "markdown",
   "metadata": {},
   "source": [
    "\n",
    "    2. Para poner el práctica el read_clipboard en esta página web os encontraréis una tabla similar a esta que os mostramos a continuación 👇:\n",
    "\n",
    "Usando el método read_clipboard, cread un dataframe nuevo que nos ayude a contestar las siguientes preguntas:\n",
    "\n",
    "        1. Usando el iloc, ¿Cuál es la temperatura mínima de Febrero? ¿Y la máxima?\n",
    "        2. Usando el loc, ¿Cuántas horas de sol hay en Julio? ¿Y en Diciembre?\n",
    "        3. Usando el iloc, ¿Cuál fue la húmedad del mes de Septiembre? ¿Y la precipitación?\n",
    "        4. Estos datos corresponden a los años 1991-2021. Cread una nueva columna cuyo valor sea \"1991-2021\".\n",
    "        Por último, guardad el dataframe generado en el ejercicio 2 en formato csv y xlsx."
   ]
  },
  {
   "cell_type": "code",
   "execution_count": null,
   "metadata": {},
   "outputs": [],
   "source": []
  }
 ],
 "metadata": {
  "language_info": {
   "name": "python"
  },
  "orig_nbformat": 4
 },
 "nbformat": 4,
 "nbformat_minor": 2
}
